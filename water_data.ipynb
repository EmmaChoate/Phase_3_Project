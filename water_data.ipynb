{
 "cells": [
  {
   "cell_type": "markdown",
   "id": "eac155fa",
   "metadata": {},
   "source": [
    "# Tanzanian Water Wells"
   ]
  },
  {
   "cell_type": "markdown",
   "id": "0f68038e",
   "metadata": {},
   "source": [
    "### Import Necessary Packages"
   ]
  },
  {
   "cell_type": "code",
   "execution_count": 3,
   "id": "6afffc87",
   "metadata": {},
   "outputs": [],
   "source": [
    "import pandas as pd\n",
    "import numpy as np\n",
    "import seaborn as sns\n",
    "from sklearn.metrics import plot_confusion_matrix\n",
    "from sklearn.preprocessing import LabelEncoder\n",
    "import matplotlib.pyplot as plt\n",
    "from sklearn.model_selection import train_test_split, GridSearchCV, cross_val_score\n",
    "from sklearn.linear_model import LogisticRegression\n",
    "from sklearn.preprocessing import StandardScaler, OneHotEncoder\n",
    "from sklearn.impute import SimpleImputer\n",
    "from sklearn.tree import DecisionTreeClassifier\n",
    "from sklearn.ensemble import RandomForestClassifier\n",
    "from sklearn.metrics import accuracy_score"
   ]
  },
  {
   "cell_type": "markdown",
   "id": "c0a36816",
   "metadata": {},
   "source": [
    "### Import Data"
   ]
  },
  {
   "cell_type": "code",
   "execution_count": 4,
   "id": "1a5243c9",
   "metadata": {},
   "outputs": [],
   "source": [
    "df2 = pd.read_csv('data/training_set_labels.csv')\n",
    "df3 = pd.read_csv('data/training_set_values.csv')"
   ]
  },
  {
   "cell_type": "markdown",
   "id": "4f19a43b",
   "metadata": {},
   "source": [
    "### EDA and Data Cleaning"
   ]
  },
  {
   "cell_type": "markdown",
   "id": "c686f970",
   "metadata": {},
   "source": [
    "#### Merge the training set data frames together "
   ]
  },
  {
   "cell_type": "code",
   "execution_count": 5,
   "id": "09015380",
   "metadata": {},
   "outputs": [],
   "source": [
    "training = pd.merge(df2, df3)"
   ]
  },
  {
   "cell_type": "code",
   "execution_count": 6,
   "id": "d4fd1f59",
   "metadata": {},
   "outputs": [],
   "source": [
    "#Checking for missing data\n",
    "#test.isna().sum().sort_values()\n",
    "#training.isna().sum().sort_values()"
   ]
  },
  {
   "cell_type": "code",
   "execution_count": 7,
   "id": "e3444271",
   "metadata": {},
   "outputs": [],
   "source": [
    "from sklearn import preprocessing\n",
    "le = preprocessing.LabelEncoder()\n",
    "labelencoder = LabelEncoder()"
   ]
  },
  {
   "cell_type": "code",
   "execution_count": 8,
   "id": "6d231f69",
   "metadata": {},
   "outputs": [
    {
     "data": {
      "text/html": [
       "<div>\n",
       "<style scoped>\n",
       "    .dataframe tbody tr th:only-of-type {\n",
       "        vertical-align: middle;\n",
       "    }\n",
       "\n",
       "    .dataframe tbody tr th {\n",
       "        vertical-align: top;\n",
       "    }\n",
       "\n",
       "    .dataframe thead th {\n",
       "        text-align: right;\n",
       "    }\n",
       "</style>\n",
       "<table border=\"1\" class=\"dataframe\">\n",
       "  <thead>\n",
       "    <tr style=\"text-align: right;\">\n",
       "      <th></th>\n",
       "      <th>id</th>\n",
       "      <th>status_group</th>\n",
       "      <th>amount_tsh</th>\n",
       "      <th>date_recorded</th>\n",
       "      <th>funder</th>\n",
       "      <th>gps_height</th>\n",
       "      <th>installer</th>\n",
       "      <th>longitude</th>\n",
       "      <th>latitude</th>\n",
       "      <th>wpt_name</th>\n",
       "      <th>...</th>\n",
       "      <th>payment_type</th>\n",
       "      <th>water_quality</th>\n",
       "      <th>quality_group</th>\n",
       "      <th>quantity</th>\n",
       "      <th>quantity_group</th>\n",
       "      <th>source</th>\n",
       "      <th>source_type</th>\n",
       "      <th>source_class</th>\n",
       "      <th>waterpoint_type</th>\n",
       "      <th>waterpoint_type_group</th>\n",
       "    </tr>\n",
       "  </thead>\n",
       "  <tbody>\n",
       "    <tr>\n",
       "      <th>0</th>\n",
       "      <td>69572</td>\n",
       "      <td>0</td>\n",
       "      <td>6000.0</td>\n",
       "      <td>2011-03-14</td>\n",
       "      <td>Roman</td>\n",
       "      <td>1390</td>\n",
       "      <td>Roman</td>\n",
       "      <td>34.938093</td>\n",
       "      <td>-9.856322</td>\n",
       "      <td>none</td>\n",
       "      <td>...</td>\n",
       "      <td>annually</td>\n",
       "      <td>soft</td>\n",
       "      <td>good</td>\n",
       "      <td>enough</td>\n",
       "      <td>enough</td>\n",
       "      <td>spring</td>\n",
       "      <td>spring</td>\n",
       "      <td>groundwater</td>\n",
       "      <td>communal standpipe</td>\n",
       "      <td>communal standpipe</td>\n",
       "    </tr>\n",
       "    <tr>\n",
       "      <th>1</th>\n",
       "      <td>8776</td>\n",
       "      <td>0</td>\n",
       "      <td>0.0</td>\n",
       "      <td>2013-03-06</td>\n",
       "      <td>Grumeti</td>\n",
       "      <td>1399</td>\n",
       "      <td>GRUMETI</td>\n",
       "      <td>34.698766</td>\n",
       "      <td>-2.147466</td>\n",
       "      <td>Zahanati</td>\n",
       "      <td>...</td>\n",
       "      <td>never pay</td>\n",
       "      <td>soft</td>\n",
       "      <td>good</td>\n",
       "      <td>insufficient</td>\n",
       "      <td>insufficient</td>\n",
       "      <td>rainwater harvesting</td>\n",
       "      <td>rainwater harvesting</td>\n",
       "      <td>surface</td>\n",
       "      <td>communal standpipe</td>\n",
       "      <td>communal standpipe</td>\n",
       "    </tr>\n",
       "    <tr>\n",
       "      <th>2</th>\n",
       "      <td>34310</td>\n",
       "      <td>0</td>\n",
       "      <td>25.0</td>\n",
       "      <td>2013-02-25</td>\n",
       "      <td>Lottery Club</td>\n",
       "      <td>686</td>\n",
       "      <td>World vision</td>\n",
       "      <td>37.460664</td>\n",
       "      <td>-3.821329</td>\n",
       "      <td>Kwa Mahundi</td>\n",
       "      <td>...</td>\n",
       "      <td>per bucket</td>\n",
       "      <td>soft</td>\n",
       "      <td>good</td>\n",
       "      <td>enough</td>\n",
       "      <td>enough</td>\n",
       "      <td>dam</td>\n",
       "      <td>dam</td>\n",
       "      <td>surface</td>\n",
       "      <td>communal standpipe multiple</td>\n",
       "      <td>communal standpipe</td>\n",
       "    </tr>\n",
       "    <tr>\n",
       "      <th>3</th>\n",
       "      <td>67743</td>\n",
       "      <td>2</td>\n",
       "      <td>0.0</td>\n",
       "      <td>2013-01-28</td>\n",
       "      <td>Unicef</td>\n",
       "      <td>263</td>\n",
       "      <td>UNICEF</td>\n",
       "      <td>38.486161</td>\n",
       "      <td>-11.155298</td>\n",
       "      <td>Zahanati Ya Nanyumbu</td>\n",
       "      <td>...</td>\n",
       "      <td>never pay</td>\n",
       "      <td>soft</td>\n",
       "      <td>good</td>\n",
       "      <td>dry</td>\n",
       "      <td>dry</td>\n",
       "      <td>machine dbh</td>\n",
       "      <td>borehole</td>\n",
       "      <td>groundwater</td>\n",
       "      <td>communal standpipe multiple</td>\n",
       "      <td>communal standpipe</td>\n",
       "    </tr>\n",
       "    <tr>\n",
       "      <th>4</th>\n",
       "      <td>19728</td>\n",
       "      <td>0</td>\n",
       "      <td>0.0</td>\n",
       "      <td>2011-07-13</td>\n",
       "      <td>Action In A</td>\n",
       "      <td>0</td>\n",
       "      <td>Artisan</td>\n",
       "      <td>31.130847</td>\n",
       "      <td>-1.825359</td>\n",
       "      <td>Shuleni</td>\n",
       "      <td>...</td>\n",
       "      <td>never pay</td>\n",
       "      <td>soft</td>\n",
       "      <td>good</td>\n",
       "      <td>seasonal</td>\n",
       "      <td>seasonal</td>\n",
       "      <td>rainwater harvesting</td>\n",
       "      <td>rainwater harvesting</td>\n",
       "      <td>surface</td>\n",
       "      <td>communal standpipe</td>\n",
       "      <td>communal standpipe</td>\n",
       "    </tr>\n",
       "    <tr>\n",
       "      <th>...</th>\n",
       "      <td>...</td>\n",
       "      <td>...</td>\n",
       "      <td>...</td>\n",
       "      <td>...</td>\n",
       "      <td>...</td>\n",
       "      <td>...</td>\n",
       "      <td>...</td>\n",
       "      <td>...</td>\n",
       "      <td>...</td>\n",
       "      <td>...</td>\n",
       "      <td>...</td>\n",
       "      <td>...</td>\n",
       "      <td>...</td>\n",
       "      <td>...</td>\n",
       "      <td>...</td>\n",
       "      <td>...</td>\n",
       "      <td>...</td>\n",
       "      <td>...</td>\n",
       "      <td>...</td>\n",
       "      <td>...</td>\n",
       "      <td>...</td>\n",
       "    </tr>\n",
       "    <tr>\n",
       "      <th>59395</th>\n",
       "      <td>60739</td>\n",
       "      <td>0</td>\n",
       "      <td>10.0</td>\n",
       "      <td>2013-05-03</td>\n",
       "      <td>Germany Republi</td>\n",
       "      <td>1210</td>\n",
       "      <td>CES</td>\n",
       "      <td>37.169807</td>\n",
       "      <td>-3.253847</td>\n",
       "      <td>Area Three Namba 27</td>\n",
       "      <td>...</td>\n",
       "      <td>per bucket</td>\n",
       "      <td>soft</td>\n",
       "      <td>good</td>\n",
       "      <td>enough</td>\n",
       "      <td>enough</td>\n",
       "      <td>spring</td>\n",
       "      <td>spring</td>\n",
       "      <td>groundwater</td>\n",
       "      <td>communal standpipe</td>\n",
       "      <td>communal standpipe</td>\n",
       "    </tr>\n",
       "    <tr>\n",
       "      <th>59396</th>\n",
       "      <td>27263</td>\n",
       "      <td>0</td>\n",
       "      <td>4700.0</td>\n",
       "      <td>2011-05-07</td>\n",
       "      <td>Cefa-njombe</td>\n",
       "      <td>1212</td>\n",
       "      <td>Cefa</td>\n",
       "      <td>35.249991</td>\n",
       "      <td>-9.070629</td>\n",
       "      <td>Kwa Yahona Kuvala</td>\n",
       "      <td>...</td>\n",
       "      <td>annually</td>\n",
       "      <td>soft</td>\n",
       "      <td>good</td>\n",
       "      <td>enough</td>\n",
       "      <td>enough</td>\n",
       "      <td>river</td>\n",
       "      <td>river/lake</td>\n",
       "      <td>surface</td>\n",
       "      <td>communal standpipe</td>\n",
       "      <td>communal standpipe</td>\n",
       "    </tr>\n",
       "    <tr>\n",
       "      <th>59397</th>\n",
       "      <td>37057</td>\n",
       "      <td>0</td>\n",
       "      <td>0.0</td>\n",
       "      <td>2011-04-11</td>\n",
       "      <td>NaN</td>\n",
       "      <td>0</td>\n",
       "      <td>NaN</td>\n",
       "      <td>34.017087</td>\n",
       "      <td>-8.750434</td>\n",
       "      <td>Mashine</td>\n",
       "      <td>...</td>\n",
       "      <td>monthly</td>\n",
       "      <td>fluoride</td>\n",
       "      <td>fluoride</td>\n",
       "      <td>enough</td>\n",
       "      <td>enough</td>\n",
       "      <td>machine dbh</td>\n",
       "      <td>borehole</td>\n",
       "      <td>groundwater</td>\n",
       "      <td>hand pump</td>\n",
       "      <td>hand pump</td>\n",
       "    </tr>\n",
       "    <tr>\n",
       "      <th>59398</th>\n",
       "      <td>31282</td>\n",
       "      <td>0</td>\n",
       "      <td>0.0</td>\n",
       "      <td>2011-03-08</td>\n",
       "      <td>Malec</td>\n",
       "      <td>0</td>\n",
       "      <td>Musa</td>\n",
       "      <td>35.861315</td>\n",
       "      <td>-6.378573</td>\n",
       "      <td>Mshoro</td>\n",
       "      <td>...</td>\n",
       "      <td>never pay</td>\n",
       "      <td>soft</td>\n",
       "      <td>good</td>\n",
       "      <td>insufficient</td>\n",
       "      <td>insufficient</td>\n",
       "      <td>shallow well</td>\n",
       "      <td>shallow well</td>\n",
       "      <td>groundwater</td>\n",
       "      <td>hand pump</td>\n",
       "      <td>hand pump</td>\n",
       "    </tr>\n",
       "    <tr>\n",
       "      <th>59399</th>\n",
       "      <td>26348</td>\n",
       "      <td>0</td>\n",
       "      <td>0.0</td>\n",
       "      <td>2011-03-23</td>\n",
       "      <td>World Bank</td>\n",
       "      <td>191</td>\n",
       "      <td>World</td>\n",
       "      <td>38.104048</td>\n",
       "      <td>-6.747464</td>\n",
       "      <td>Kwa Mzee Lugawa</td>\n",
       "      <td>...</td>\n",
       "      <td>on failure</td>\n",
       "      <td>salty</td>\n",
       "      <td>salty</td>\n",
       "      <td>enough</td>\n",
       "      <td>enough</td>\n",
       "      <td>shallow well</td>\n",
       "      <td>shallow well</td>\n",
       "      <td>groundwater</td>\n",
       "      <td>hand pump</td>\n",
       "      <td>hand pump</td>\n",
       "    </tr>\n",
       "  </tbody>\n",
       "</table>\n",
       "<p>59400 rows × 41 columns</p>\n",
       "</div>"
      ],
      "text/plain": [
       "          id  status_group  amount_tsh date_recorded           funder  \\\n",
       "0      69572             0      6000.0    2011-03-14            Roman   \n",
       "1       8776             0         0.0    2013-03-06          Grumeti   \n",
       "2      34310             0        25.0    2013-02-25     Lottery Club   \n",
       "3      67743             2         0.0    2013-01-28           Unicef   \n",
       "4      19728             0         0.0    2011-07-13      Action In A   \n",
       "...      ...           ...         ...           ...              ...   \n",
       "59395  60739             0        10.0    2013-05-03  Germany Republi   \n",
       "59396  27263             0      4700.0    2011-05-07      Cefa-njombe   \n",
       "59397  37057             0         0.0    2011-04-11              NaN   \n",
       "59398  31282             0         0.0    2011-03-08            Malec   \n",
       "59399  26348             0         0.0    2011-03-23       World Bank   \n",
       "\n",
       "       gps_height     installer  longitude   latitude              wpt_name  \\\n",
       "0            1390         Roman  34.938093  -9.856322                  none   \n",
       "1            1399       GRUMETI  34.698766  -2.147466              Zahanati   \n",
       "2             686  World vision  37.460664  -3.821329           Kwa Mahundi   \n",
       "3             263        UNICEF  38.486161 -11.155298  Zahanati Ya Nanyumbu   \n",
       "4               0       Artisan  31.130847  -1.825359               Shuleni   \n",
       "...           ...           ...        ...        ...                   ...   \n",
       "59395        1210           CES  37.169807  -3.253847   Area Three Namba 27   \n",
       "59396        1212          Cefa  35.249991  -9.070629     Kwa Yahona Kuvala   \n",
       "59397           0           NaN  34.017087  -8.750434               Mashine   \n",
       "59398           0          Musa  35.861315  -6.378573                Mshoro   \n",
       "59399         191         World  38.104048  -6.747464       Kwa Mzee Lugawa   \n",
       "\n",
       "       ...  payment_type water_quality quality_group      quantity  \\\n",
       "0      ...      annually          soft          good        enough   \n",
       "1      ...     never pay          soft          good  insufficient   \n",
       "2      ...    per bucket          soft          good        enough   \n",
       "3      ...     never pay          soft          good           dry   \n",
       "4      ...     never pay          soft          good      seasonal   \n",
       "...    ...           ...           ...           ...           ...   \n",
       "59395  ...    per bucket          soft          good        enough   \n",
       "59396  ...      annually          soft          good        enough   \n",
       "59397  ...       monthly      fluoride      fluoride        enough   \n",
       "59398  ...     never pay          soft          good  insufficient   \n",
       "59399  ...    on failure         salty         salty        enough   \n",
       "\n",
       "       quantity_group                source           source_type  \\\n",
       "0              enough                spring                spring   \n",
       "1        insufficient  rainwater harvesting  rainwater harvesting   \n",
       "2              enough                   dam                   dam   \n",
       "3                 dry           machine dbh              borehole   \n",
       "4            seasonal  rainwater harvesting  rainwater harvesting   \n",
       "...               ...                   ...                   ...   \n",
       "59395          enough                spring                spring   \n",
       "59396          enough                 river            river/lake   \n",
       "59397          enough           machine dbh              borehole   \n",
       "59398    insufficient          shallow well          shallow well   \n",
       "59399          enough          shallow well          shallow well   \n",
       "\n",
       "      source_class              waterpoint_type waterpoint_type_group  \n",
       "0      groundwater           communal standpipe    communal standpipe  \n",
       "1          surface           communal standpipe    communal standpipe  \n",
       "2          surface  communal standpipe multiple    communal standpipe  \n",
       "3      groundwater  communal standpipe multiple    communal standpipe  \n",
       "4          surface           communal standpipe    communal standpipe  \n",
       "...            ...                          ...                   ...  \n",
       "59395  groundwater           communal standpipe    communal standpipe  \n",
       "59396      surface           communal standpipe    communal standpipe  \n",
       "59397  groundwater                    hand pump             hand pump  \n",
       "59398  groundwater                    hand pump             hand pump  \n",
       "59399  groundwater                    hand pump             hand pump  \n",
       "\n",
       "[59400 rows x 41 columns]"
      ]
     },
     "execution_count": 8,
     "metadata": {},
     "output_type": "execute_result"
    }
   ],
   "source": [
    "# Assigning numerical values and storing in another column\n",
    "training['status_group'] = labelencoder.fit_transform(training['status_group'])\n",
    "training"
   ]
  },
  {
   "cell_type": "code",
   "execution_count": 9,
   "id": "ab4e7087",
   "metadata": {},
   "outputs": [],
   "source": [
    "# Dropping null values\n",
    "training = training.dropna()"
   ]
  },
  {
   "cell_type": "code",
   "execution_count": 10,
   "id": "5b4c3493",
   "metadata": {},
   "outputs": [
    {
     "name": "stdout",
     "output_type": "stream",
     "text": [
      "Training Data missing:  0\n",
      "Training Shape:  (27813, 41)\n"
     ]
    }
   ],
   "source": [
    "print('Training Data missing: ', training.isna().sum().sum())\n",
    "\n",
    "print('Training Shape: ', training.shape)"
   ]
  },
  {
   "cell_type": "code",
   "execution_count": 11,
   "id": "4580c49f",
   "metadata": {},
   "outputs": [
    {
     "data": {
      "text/plain": [
       "status_group\n",
       "0    16056\n",
       "2     9744\n",
       "1     2013\n",
       "dtype: int64"
      ]
     },
     "execution_count": 11,
     "metadata": {},
     "output_type": "execute_result"
    }
   ],
   "source": [
    "training.value_counts('status_group')"
   ]
  },
  {
   "cell_type": "code",
   "execution_count": 12,
   "id": "e5000f8b",
   "metadata": {
    "scrolled": true
   },
   "outputs": [
    {
     "data": {
      "image/png": "[encoded data removed]",
      "text/plain": [
       "<Figure size 1584x720 with 1 Axes>"
      ]
     },
     "metadata": {
      "needs_background": "light"
     },
     "output_type": "display_data"
    }
   ],
   "source": [
    "plt.figure(figsize=(22,10))\n",
    "sns.countplot(data=training,x='region',hue='status_group');"
   ]
  },
  {
   "cell_type": "code",
   "execution_count": 13,
   "id": "619a3ec1",
   "metadata": {},
   "outputs": [
    {
     "data": {
      "image/png": "[encoded data removed]",
      "text/plain": [
       "<Figure size 1080x648 with 1 Axes>"
      ]
     },
     "metadata": {
      "needs_background": "light"
     },
     "output_type": "display_data"
    }
   ],
   "source": [
    "plt.figure(figsize=(15, 9))\n",
    "sns.countplot(data=training,x='source_type',hue='status_group');"
   ]
  },
  {
   "cell_type": "code",
   "execution_count": 14,
   "id": "4166ab89",
   "metadata": {
    "scrolled": false
   },
   "outputs": [
    {
     "data": {
      "image/png": "[encoded data removed]",
      "text/plain": [
       "<Figure size 1728x648 with 1 Axes>"
      ]
     },
     "metadata": {
      "needs_background": "light"
     },
     "output_type": "display_data"
    }
   ],
   "source": [
    "plt.figure(figsize=(24, 9))\n",
    "sns.countplot(data=training,x='quantity',hue='status_group');"
   ]
  },
  {
   "cell_type": "code",
   "execution_count": 15,
   "id": "8689152d",
   "metadata": {},
   "outputs": [
    {
     "data": {
      "image/png": "[encoded data removed]",
      "text/plain": [
       "<Figure size 1728x648 with 1 Axes>"
      ]
     },
     "metadata": {
      "needs_background": "light"
     },
     "output_type": "display_data"
    }
   ],
   "source": [
    "plt.figure(figsize=(24, 9))\n",
    "sns.countplot(data=training,x='basin',hue='status_group');"
   ]
  },
  {
   "cell_type": "code",
   "execution_count": 16,
   "id": "42d95101",
   "metadata": {},
   "outputs": [
    {
     "data": {
      "image/png": "[encoded data removed]",
      "text/plain": [
       "<Figure size 1728x648 with 1 Axes>"
      ]
     },
     "metadata": {
      "needs_background": "light"
     },
     "output_type": "display_data"
    }
   ],
   "source": [
    "plt.figure(figsize=(24, 9))\n",
    "sns.countplot(data=training,x='waterpoint_type',hue='status_group');"
   ]
  },
  {
   "cell_type": "code",
   "execution_count": 17,
   "id": "3500456b",
   "metadata": {},
   "outputs": [
    {
     "data": {
      "text/plain": [
       "Index(['id', 'status_group', 'amount_tsh', 'date_recorded', 'funder',\n",
       "       'gps_height', 'installer', 'longitude', 'latitude', 'wpt_name',\n",
       "       'num_private', 'basin', 'subvillage', 'region', 'region_code',\n",
       "       'district_code', 'lga', 'ward', 'population', 'public_meeting',\n",
       "       'recorded_by', 'scheme_management', 'scheme_name', 'permit',\n",
       "       'construction_year', 'extraction_type', 'extraction_type_group',\n",
       "       'extraction_type_class', 'management', 'management_group', 'payment',\n",
       "       'payment_type', 'water_quality', 'quality_group', 'quantity',\n",
       "       'quantity_group', 'source', 'source_type', 'source_class',\n",
       "       'waterpoint_type', 'waterpoint_type_group'],\n",
       "      dtype='object')"
      ]
     },
     "execution_count": 17,
     "metadata": {},
     "output_type": "execute_result"
    }
   ],
   "source": [
    "training.columns"
   ]
  },
  {
   "cell_type": "markdown",
   "id": "6d22becb",
   "metadata": {},
   "source": [
    "### DataFrame with the most important features"
   ]
  },
  {
   "cell_type": "code",
   "execution_count": 18,
   "id": "c8448098",
   "metadata": {},
   "outputs": [
    {
     "data": {
      "text/html": [
       "<div>\n",
       "<style scoped>\n",
       "    .dataframe tbody tr th:only-of-type {\n",
       "        vertical-align: middle;\n",
       "    }\n",
       "\n",
       "    .dataframe tbody tr th {\n",
       "        vertical-align: top;\n",
       "    }\n",
       "\n",
       "    .dataframe thead th {\n",
       "        text-align: right;\n",
       "    }\n",
       "</style>\n",
       "<table border=\"1\" class=\"dataframe\">\n",
       "  <thead>\n",
       "    <tr style=\"text-align: right;\">\n",
       "      <th></th>\n",
       "      <th>id</th>\n",
       "      <th>status_group</th>\n",
       "      <th>amount_tsh</th>\n",
       "      <th>longitude</th>\n",
       "      <th>latitude</th>\n",
       "      <th>quantity</th>\n",
       "      <th>waterpoint_type</th>\n",
       "      <th>payment_type</th>\n",
       "      <th>management</th>\n",
       "      <th>water_quality</th>\n",
       "      <th>...</th>\n",
       "      <th>region</th>\n",
       "      <th>gps_height</th>\n",
       "      <th>scheme_management</th>\n",
       "      <th>source</th>\n",
       "      <th>lga</th>\n",
       "      <th>funder</th>\n",
       "      <th>district_code</th>\n",
       "      <th>basin</th>\n",
       "      <th>installer</th>\n",
       "      <th>extraction_type</th>\n",
       "    </tr>\n",
       "  </thead>\n",
       "  <tbody>\n",
       "    <tr>\n",
       "      <th>0</th>\n",
       "      <td>69572</td>\n",
       "      <td>0</td>\n",
       "      <td>6000.0</td>\n",
       "      <td>34.938093</td>\n",
       "      <td>-9.856322</td>\n",
       "      <td>enough</td>\n",
       "      <td>communal standpipe</td>\n",
       "      <td>annually</td>\n",
       "      <td>vwc</td>\n",
       "      <td>soft</td>\n",
       "      <td>...</td>\n",
       "      <td>Iringa</td>\n",
       "      <td>1390</td>\n",
       "      <td>VWC</td>\n",
       "      <td>spring</td>\n",
       "      <td>Ludewa</td>\n",
       "      <td>Roman</td>\n",
       "      <td>5</td>\n",
       "      <td>Lake Nyasa</td>\n",
       "      <td>Roman</td>\n",
       "      <td>gravity</td>\n",
       "    </tr>\n",
       "    <tr>\n",
       "      <th>2</th>\n",
       "      <td>34310</td>\n",
       "      <td>0</td>\n",
       "      <td>25.0</td>\n",
       "      <td>37.460664</td>\n",
       "      <td>-3.821329</td>\n",
       "      <td>enough</td>\n",
       "      <td>communal standpipe multiple</td>\n",
       "      <td>per bucket</td>\n",
       "      <td>vwc</td>\n",
       "      <td>soft</td>\n",
       "      <td>...</td>\n",
       "      <td>Manyara</td>\n",
       "      <td>686</td>\n",
       "      <td>VWC</td>\n",
       "      <td>dam</td>\n",
       "      <td>Simanjiro</td>\n",
       "      <td>Lottery Club</td>\n",
       "      <td>4</td>\n",
       "      <td>Pangani</td>\n",
       "      <td>World vision</td>\n",
       "      <td>gravity</td>\n",
       "    </tr>\n",
       "    <tr>\n",
       "      <th>5</th>\n",
       "      <td>9944</td>\n",
       "      <td>0</td>\n",
       "      <td>20.0</td>\n",
       "      <td>39.172796</td>\n",
       "      <td>-4.765587</td>\n",
       "      <td>enough</td>\n",
       "      <td>communal standpipe multiple</td>\n",
       "      <td>per bucket</td>\n",
       "      <td>vwc</td>\n",
       "      <td>salty</td>\n",
       "      <td>...</td>\n",
       "      <td>Tanga</td>\n",
       "      <td>0</td>\n",
       "      <td>VWC</td>\n",
       "      <td>other</td>\n",
       "      <td>Mkinga</td>\n",
       "      <td>Mkinga Distric Coun</td>\n",
       "      <td>8</td>\n",
       "      <td>Pangani</td>\n",
       "      <td>DWE</td>\n",
       "      <td>submersible</td>\n",
       "    </tr>\n",
       "    <tr>\n",
       "      <th>13</th>\n",
       "      <td>50495</td>\n",
       "      <td>0</td>\n",
       "      <td>0.0</td>\n",
       "      <td>37.092574</td>\n",
       "      <td>-3.181783</td>\n",
       "      <td>enough</td>\n",
       "      <td>communal standpipe</td>\n",
       "      <td>monthly</td>\n",
       "      <td>water board</td>\n",
       "      <td>soft</td>\n",
       "      <td>...</td>\n",
       "      <td>Kilimanjaro</td>\n",
       "      <td>1368</td>\n",
       "      <td>Water Board</td>\n",
       "      <td>spring</td>\n",
       "      <td>Siha</td>\n",
       "      <td>Lawatefuka Water Supply</td>\n",
       "      <td>7</td>\n",
       "      <td>Pangani</td>\n",
       "      <td>Lawatefuka water sup</td>\n",
       "      <td>gravity</td>\n",
       "    </tr>\n",
       "    <tr>\n",
       "      <th>14</th>\n",
       "      <td>53752</td>\n",
       "      <td>0</td>\n",
       "      <td>0.0</td>\n",
       "      <td>34.364073</td>\n",
       "      <td>-3.629333</td>\n",
       "      <td>enough</td>\n",
       "      <td>hand pump</td>\n",
       "      <td>never pay</td>\n",
       "      <td>wug</td>\n",
       "      <td>soft</td>\n",
       "      <td>...</td>\n",
       "      <td>Shinyanga</td>\n",
       "      <td>0</td>\n",
       "      <td>WUG</td>\n",
       "      <td>shallow well</td>\n",
       "      <td>Meatu</td>\n",
       "      <td>Biore</td>\n",
       "      <td>6</td>\n",
       "      <td>Internal</td>\n",
       "      <td>WEDECO</td>\n",
       "      <td>nira/tanira</td>\n",
       "    </tr>\n",
       "    <tr>\n",
       "      <th>...</th>\n",
       "      <td>...</td>\n",
       "      <td>...</td>\n",
       "      <td>...</td>\n",
       "      <td>...</td>\n",
       "      <td>...</td>\n",
       "      <td>...</td>\n",
       "      <td>...</td>\n",
       "      <td>...</td>\n",
       "      <td>...</td>\n",
       "      <td>...</td>\n",
       "      <td>...</td>\n",
       "      <td>...</td>\n",
       "      <td>...</td>\n",
       "      <td>...</td>\n",
       "      <td>...</td>\n",
       "      <td>...</td>\n",
       "      <td>...</td>\n",
       "      <td>...</td>\n",
       "      <td>...</td>\n",
       "      <td>...</td>\n",
       "      <td>...</td>\n",
       "    </tr>\n",
       "    <tr>\n",
       "      <th>59381</th>\n",
       "      <td>67885</td>\n",
       "      <td>2</td>\n",
       "      <td>0.0</td>\n",
       "      <td>38.835001</td>\n",
       "      <td>-4.880204</td>\n",
       "      <td>insufficient</td>\n",
       "      <td>communal standpipe</td>\n",
       "      <td>never pay</td>\n",
       "      <td>vwc</td>\n",
       "      <td>soft</td>\n",
       "      <td>...</td>\n",
       "      <td>Tanga</td>\n",
       "      <td>0</td>\n",
       "      <td>VWC</td>\n",
       "      <td>spring</td>\n",
       "      <td>Mkinga</td>\n",
       "      <td>Mkinga Distric Coun</td>\n",
       "      <td>8</td>\n",
       "      <td>Pangani</td>\n",
       "      <td>DWE</td>\n",
       "      <td>gravity</td>\n",
       "    </tr>\n",
       "    <tr>\n",
       "      <th>59382</th>\n",
       "      <td>47002</td>\n",
       "      <td>2</td>\n",
       "      <td>6.0</td>\n",
       "      <td>37.454759</td>\n",
       "      <td>-3.323599</td>\n",
       "      <td>enough</td>\n",
       "      <td>communal standpipe</td>\n",
       "      <td>per bucket</td>\n",
       "      <td>water board</td>\n",
       "      <td>soft</td>\n",
       "      <td>...</td>\n",
       "      <td>Kilimanjaro</td>\n",
       "      <td>1383</td>\n",
       "      <td>Water Board</td>\n",
       "      <td>spring</td>\n",
       "      <td>Moshi Rural</td>\n",
       "      <td>Ces(gmbh)</td>\n",
       "      <td>4</td>\n",
       "      <td>Pangani</td>\n",
       "      <td>DWE</td>\n",
       "      <td>gravity</td>\n",
       "    </tr>\n",
       "    <tr>\n",
       "      <th>59391</th>\n",
       "      <td>44885</td>\n",
       "      <td>2</td>\n",
       "      <td>0.0</td>\n",
       "      <td>38.044070</td>\n",
       "      <td>-4.272218</td>\n",
       "      <td>enough</td>\n",
       "      <td>communal standpipe</td>\n",
       "      <td>never pay</td>\n",
       "      <td>vwc</td>\n",
       "      <td>soft</td>\n",
       "      <td>...</td>\n",
       "      <td>Kilimanjaro</td>\n",
       "      <td>540</td>\n",
       "      <td>Water authority</td>\n",
       "      <td>river</td>\n",
       "      <td>Same</td>\n",
       "      <td>Government Of Tanzania</td>\n",
       "      <td>3</td>\n",
       "      <td>Pangani</td>\n",
       "      <td>Government</td>\n",
       "      <td>gravity</td>\n",
       "    </tr>\n",
       "    <tr>\n",
       "      <th>59395</th>\n",
       "      <td>60739</td>\n",
       "      <td>0</td>\n",
       "      <td>10.0</td>\n",
       "      <td>37.169807</td>\n",
       "      <td>-3.253847</td>\n",
       "      <td>enough</td>\n",
       "      <td>communal standpipe</td>\n",
       "      <td>per bucket</td>\n",
       "      <td>water board</td>\n",
       "      <td>soft</td>\n",
       "      <td>...</td>\n",
       "      <td>Kilimanjaro</td>\n",
       "      <td>1210</td>\n",
       "      <td>Water Board</td>\n",
       "      <td>spring</td>\n",
       "      <td>Hai</td>\n",
       "      <td>Germany Republi</td>\n",
       "      <td>5</td>\n",
       "      <td>Pangani</td>\n",
       "      <td>CES</td>\n",
       "      <td>gravity</td>\n",
       "    </tr>\n",
       "    <tr>\n",
       "      <th>59396</th>\n",
       "      <td>27263</td>\n",
       "      <td>0</td>\n",
       "      <td>4700.0</td>\n",
       "      <td>35.249991</td>\n",
       "      <td>-9.070629</td>\n",
       "      <td>enough</td>\n",
       "      <td>communal standpipe</td>\n",
       "      <td>annually</td>\n",
       "      <td>vwc</td>\n",
       "      <td>soft</td>\n",
       "      <td>...</td>\n",
       "      <td>Iringa</td>\n",
       "      <td>1212</td>\n",
       "      <td>VWC</td>\n",
       "      <td>river</td>\n",
       "      <td>Njombe</td>\n",
       "      <td>Cefa-njombe</td>\n",
       "      <td>4</td>\n",
       "      <td>Rufiji</td>\n",
       "      <td>Cefa</td>\n",
       "      <td>gravity</td>\n",
       "    </tr>\n",
       "  </tbody>\n",
       "</table>\n",
       "<p>27813 rows × 21 columns</p>\n",
       "</div>"
      ],
      "text/plain": [
       "          id  status_group  amount_tsh  longitude  latitude      quantity  \\\n",
       "0      69572             0      6000.0  34.938093 -9.856322        enough   \n",
       "2      34310             0        25.0  37.460664 -3.821329        enough   \n",
       "5       9944             0        20.0  39.172796 -4.765587        enough   \n",
       "13     50495             0         0.0  37.092574 -3.181783        enough   \n",
       "14     53752             0         0.0  34.364073 -3.629333        enough   \n",
       "...      ...           ...         ...        ...       ...           ...   \n",
       "59381  67885             2         0.0  38.835001 -4.880204  insufficient   \n",
       "59382  47002             2         6.0  37.454759 -3.323599        enough   \n",
       "59391  44885             2         0.0  38.044070 -4.272218        enough   \n",
       "59395  60739             0        10.0  37.169807 -3.253847        enough   \n",
       "59396  27263             0      4700.0  35.249991 -9.070629        enough   \n",
       "\n",
       "                   waterpoint_type payment_type   management water_quality  \\\n",
       "0               communal standpipe     annually          vwc          soft   \n",
       "2      communal standpipe multiple   per bucket          vwc          soft   \n",
       "5      communal standpipe multiple   per bucket          vwc         salty   \n",
       "13              communal standpipe      monthly  water board          soft   \n",
       "14                       hand pump    never pay          wug          soft   \n",
       "...                            ...          ...          ...           ...   \n",
       "59381           communal standpipe    never pay          vwc          soft   \n",
       "59382           communal standpipe   per bucket  water board          soft   \n",
       "59391           communal standpipe    never pay          vwc          soft   \n",
       "59395           communal standpipe   per bucket  water board          soft   \n",
       "59396           communal standpipe     annually          vwc          soft   \n",
       "\n",
       "       ...       region gps_height  scheme_management        source  \\\n",
       "0      ...       Iringa       1390                VWC        spring   \n",
       "2      ...      Manyara        686                VWC           dam   \n",
       "5      ...        Tanga          0                VWC         other   \n",
       "13     ...  Kilimanjaro       1368        Water Board        spring   \n",
       "14     ...    Shinyanga          0                WUG  shallow well   \n",
       "...    ...          ...        ...                ...           ...   \n",
       "59381  ...        Tanga          0                VWC        spring   \n",
       "59382  ...  Kilimanjaro       1383        Water Board        spring   \n",
       "59391  ...  Kilimanjaro        540    Water authority         river   \n",
       "59395  ...  Kilimanjaro       1210        Water Board        spring   \n",
       "59396  ...       Iringa       1212                VWC         river   \n",
       "\n",
       "               lga                   funder district_code       basin  \\\n",
       "0           Ludewa                    Roman             5  Lake Nyasa   \n",
       "2        Simanjiro             Lottery Club             4     Pangani   \n",
       "5           Mkinga      Mkinga Distric Coun             8     Pangani   \n",
       "13            Siha  Lawatefuka Water Supply             7     Pangani   \n",
       "14           Meatu                    Biore             6    Internal   \n",
       "...            ...                      ...           ...         ...   \n",
       "59381       Mkinga      Mkinga Distric Coun             8     Pangani   \n",
       "59382  Moshi Rural                Ces(gmbh)             4     Pangani   \n",
       "59391         Same   Government Of Tanzania             3     Pangani   \n",
       "59395          Hai          Germany Republi             5     Pangani   \n",
       "59396       Njombe              Cefa-njombe             4      Rufiji   \n",
       "\n",
       "                  installer extraction_type  \n",
       "0                     Roman         gravity  \n",
       "2              World vision         gravity  \n",
       "5                       DWE     submersible  \n",
       "13     Lawatefuka water sup         gravity  \n",
       "14                   WEDECO     nira/tanira  \n",
       "...                     ...             ...  \n",
       "59381                   DWE         gravity  \n",
       "59382                   DWE         gravity  \n",
       "59391            Government         gravity  \n",
       "59395                   CES         gravity  \n",
       "59396                  Cefa         gravity  \n",
       "\n",
       "[27813 rows x 21 columns]"
      ]
     },
     "execution_count": 18,
     "metadata": {},
     "output_type": "execute_result"
    }
   ],
   "source": [
    "sorted_training = training[['id','status_group','amount_tsh','longitude', 'latitude', 'quantity',\n",
    "                           'waterpoint_type','payment_type', 'management',\n",
    "                            'water_quality','population','region', 'gps_height',\n",
    "                            'scheme_management', 'source', 'lga', 'funder', 'district_code',\n",
    "                           'basin', 'installer','extraction_type']]\n",
    "sorted_training"
   ]
  },
  {
   "cell_type": "markdown",
   "id": "63140cdf",
   "metadata": {},
   "source": [
    "#### Looking deeper at the values in the new dataframe"
   ]
  },
  {
   "cell_type": "code",
   "execution_count": 19,
   "id": "9d204cb5",
   "metadata": {},
   "outputs": [],
   "source": [
    "col_names = sorted_training.columns"
   ]
  },
  {
   "cell_type": "code",
   "execution_count": null,
   "id": "287fb1b0",
   "metadata": {},
   "outputs": [],
   "source": []
  },
  {
   "cell_type": "code",
   "execution_count": 20,
   "id": "14ebba4b",
   "metadata": {},
   "outputs": [
    {
     "data": {
      "text/plain": [
       "gravity              19611\n",
       "submersible           2842\n",
       "mono                  1777\n",
       "ksb                   1161\n",
       "other                  844\n",
       "nira/tanira            747\n",
       "afridev                199\n",
       "india mark ii          192\n",
       "swn 80                 147\n",
       "cemo                    89\n",
       "windmill                70\n",
       "other - play pump       66\n",
       "climax                  29\n",
       "other - rope pump       27\n",
       "other - swn 81          10\n",
       "india mark iii           2\n",
       "Name: extraction_type, dtype: int64"
      ]
     },
     "execution_count": 20,
     "metadata": {},
     "output_type": "execute_result"
    }
   ],
   "source": [
    "sorted_training.extraction_type.value_counts()"
   ]
  },
  {
   "cell_type": "code",
   "execution_count": 21,
   "id": "2a2fd9c2",
   "metadata": {},
   "outputs": [
    {
     "data": {
      "text/plain": [
       "enough          16862\n",
       "insufficient     7067\n",
       "dry              2875\n",
       "seasonal          886\n",
       "unknown           123\n",
       "Name: quantity, dtype: int64"
      ]
     },
     "execution_count": 21,
     "metadata": {},
     "output_type": "execute_result"
    }
   ],
   "source": [
    "sorted_training.quantity.value_counts()"
   ]
  },
  {
   "cell_type": "code",
   "execution_count": 22,
   "id": "cc6c3279",
   "metadata": {},
   "outputs": [
    {
     "data": {
      "text/plain": [
       "never pay     10040\n",
       "per bucket     6133\n",
       "monthly        5894\n",
       "annually       2266\n",
       "unknown        2065\n",
       "on failure     1210\n",
       "other           205\n",
       "Name: payment_type, dtype: int64"
      ]
     },
     "execution_count": 22,
     "metadata": {},
     "output_type": "execute_result"
    }
   ],
   "source": [
    "sorted_training.payment_type.value_counts()"
   ]
  },
  {
   "cell_type": "code",
   "execution_count": 23,
   "id": "cd2bd3e7",
   "metadata": {},
   "outputs": [
    {
     "data": {
      "text/plain": [
       "spring                  13121\n",
       "river                    7576\n",
       "machine dbh              4461\n",
       "shallow well             1089\n",
       "lake                      544\n",
       "dam                       459\n",
       "rainwater harvesting      291\n",
       "other                     139\n",
       "hand dtw                  117\n",
       "unknown                    16\n",
       "Name: source, dtype: int64"
      ]
     },
     "execution_count": 23,
     "metadata": {},
     "output_type": "execute_result"
    }
   ],
   "source": [
    "sorted_training.source.value_counts()"
   ]
  },
  {
   "cell_type": "code",
   "execution_count": 24,
   "id": "ac8c5c30",
   "metadata": {},
   "outputs": [
    {
     "data": {
      "text/plain": [
       "Pangani                    7630\n",
       "Rufiji                     4048\n",
       "Internal                   3393\n",
       "Lake Nyasa                 2868\n",
       "Wami / Ruvu                2594\n",
       "Lake Victoria              2513\n",
       "Lake Tanganyika            2472\n",
       "Ruvuma / Southern Coast    1973\n",
       "Lake Rukwa                  322\n",
       "Name: basin, dtype: int64"
      ]
     },
     "execution_count": 24,
     "metadata": {},
     "output_type": "execute_result"
    }
   ],
   "source": [
    "sorted_training.basin.value_counts()"
   ]
  },
  {
   "cell_type": "code",
   "execution_count": 25,
   "id": "0cfaa11f",
   "metadata": {},
   "outputs": [
    {
     "data": {
      "text/plain": [
       "<AxesSubplot:xlabel='status_group'>"
      ]
     },
     "execution_count": 25,
     "metadata": {},
     "output_type": "execute_result"
    },
    {
     "data": {
      "image/png": "[encoded data removed]",
      "text/plain": [
       "<Figure size 432x288 with 1 Axes>"
      ]
     },
     "metadata": {
      "needs_background": "light"
     },
     "output_type": "display_data"
    }
   ],
   "source": [
    "training.groupby('status_group').mean()['amount_tsh'].plot(kind='bar')"
   ]
  },
  {
   "cell_type": "code",
   "execution_count": 26,
   "id": "df9c6428",
   "metadata": {},
   "outputs": [
    {
     "data": {
      "text/plain": [
       "status_group\n",
       "0    677.434230\n",
       "1    381.551416\n",
       "2    176.430973\n",
       "Name: amount_tsh, dtype: float64"
      ]
     },
     "execution_count": 26,
     "metadata": {},
     "output_type": "execute_result"
    }
   ],
   "source": [
    "training.groupby('status_group').mean()['amount_tsh']"
   ]
  },
  {
   "cell_type": "code",
   "execution_count": 27,
   "id": "ae2e17af",
   "metadata": {},
   "outputs": [
    {
     "data": {
      "text/plain": [
       "0        0\n",
       "2        2\n",
       "5        2\n",
       "13       2\n",
       "14       2\n",
       "        ..\n",
       "59381    2\n",
       "59382    2\n",
       "59391    2\n",
       "59395    2\n",
       "59396    0\n",
       "Name: amount_tsh, Length: 27813, dtype: int64"
      ]
     },
     "execution_count": 27,
     "metadata": {},
     "output_type": "execute_result"
    }
   ],
   "source": [
    "def bin_tsh(x):\n",
    "    \n",
    "    if x > 381.551416:\n",
    "        return 0\n",
    "    elif x > 176.430973:\n",
    "        return 1\n",
    "    else:\n",
    "        return 2\n",
    "    \n",
    "\n",
    "from sklearn.metrics import confusion_matrix\n",
    "training['amount_tsh'].apply(bin_tsh)"
   ]
  },
  {
   "cell_type": "code",
   "execution_count": 28,
   "id": "f14a758b",
   "metadata": {},
   "outputs": [],
   "source": [
    "#long and lat \n"
   ]
  },
  {
   "cell_type": "code",
   "execution_count": 29,
   "id": "84f6f6a4",
   "metadata": {},
   "outputs": [],
   "source": [
    "#sns.boxplot(x='status_group', y='amount_tsh', data=training, showfliers=False)"
   ]
  },
  {
   "cell_type": "code",
   "execution_count": 30,
   "id": "3150aee8",
   "metadata": {},
   "outputs": [],
   "source": [
    "#sorted_training.value_counts('status_group')"
   ]
  },
  {
   "cell_type": "code",
   "execution_count": 31,
   "id": "e352f4ee",
   "metadata": {},
   "outputs": [],
   "source": [
    "#sorted_training.loc[sorted_training['construction_year']== 0]"
   ]
  },
  {
   "cell_type": "markdown",
   "id": "ab08433f",
   "metadata": {},
   "source": [
    "## Baseline Model"
   ]
  },
  {
   "cell_type": "code",
   "execution_count": 32,
   "id": "60475604",
   "metadata": {},
   "outputs": [],
   "source": [
    "small_df = training[['status_group','region','source_type','quantity',\n",
    "                   'longitude','latitude']]"
   ]
  },
  {
   "cell_type": "code",
   "execution_count": 87,
   "id": "c8544114",
   "metadata": {},
   "outputs": [
    {
     "data": {
      "image/png": "[encoded data removed]",
      "text/plain": [
       "<Figure size 1584x720 with 1 Axes>"
      ]
     },
     "metadata": {
      "needs_background": "light"
     },
     "output_type": "display_data"
    }
   ],
   "source": [
    "plt.figure(figsize=(22,10))\n",
    "sns.countplot(data=small_df,x='quantity',hue='status_group');"
   ]
  },
  {
   "cell_type": "code",
   "execution_count": 33,
   "id": "a18b7767",
   "metadata": {},
   "outputs": [],
   "source": [
    "# Target\n",
    "y_simp = small_df['status_group']\n",
    "# Features\n",
    "X_simp = small_df.drop('status_group', axis=1)"
   ]
  },
  {
   "cell_type": "code",
   "execution_count": 34,
   "id": "f0e3401a",
   "metadata": {},
   "outputs": [
    {
     "data": {
      "text/plain": [
       "['longitude', 'latitude']"
      ]
     },
     "execution_count": 34,
     "metadata": {},
     "output_type": "execute_result"
    }
   ],
   "source": [
    "num_cols_simp = list(X_simp.select_dtypes('number').columns)\n",
    "num_cols_simp"
   ]
  },
  {
   "cell_type": "code",
   "execution_count": 35,
   "id": "bde5358e",
   "metadata": {},
   "outputs": [
    {
     "data": {
      "text/plain": [
       "['region', 'source_type', 'quantity']"
      ]
     },
     "execution_count": 35,
     "metadata": {},
     "output_type": "execute_result"
    }
   ],
   "source": [
    "cat_cols_simp = list(X_simp.select_dtypes('object').columns)\n",
    "cat_cols_simp"
   ]
  },
  {
   "cell_type": "code",
   "execution_count": 36,
   "id": "3642be43",
   "metadata": {},
   "outputs": [],
   "source": [
    "X_train_simp, X_test_simp, y_train_simp, y_test_simp = train_test_split(X_simp, y_simp, test_size=.15, random_state=2021)"
   ]
  },
  {
   "cell_type": "markdown",
   "id": "fd858a1d",
   "metadata": {},
   "source": [
    "#### Scale the numeric columns"
   ]
  },
  {
   "cell_type": "code",
   "execution_count": 37,
   "id": "0673ca2d",
   "metadata": {},
   "outputs": [
    {
     "data": {
      "text/plain": [
       "StandardScaler(copy=True, with_mean=True, with_std=True)"
      ]
     },
     "execution_count": 37,
     "metadata": {},
     "output_type": "execute_result"
    }
   ],
   "source": [
    "# Instantiate StandardScaler\n",
    "scaler_simp = StandardScaler()\n",
    "# fit on Imputed training data\n",
    "scaler_simp.fit(X_train_simp[num_cols_simp])"
   ]
  },
  {
   "cell_type": "code",
   "execution_count": 38,
   "id": "41716789",
   "metadata": {},
   "outputs": [],
   "source": [
    "# transform training and validation data\n",
    "X_train_scaled_simp = pd.DataFrame(scaler_simp.transform(X_train_simp[num_cols_simp]), columns=num_cols_simp)"
   ]
  },
  {
   "cell_type": "markdown",
   "id": "4865bf93",
   "metadata": {},
   "source": [
    "#### One Hot Encode the categorical columns"
   ]
  },
  {
   "cell_type": "code",
   "execution_count": 39,
   "id": "4668ed5a",
   "metadata": {},
   "outputs": [],
   "source": [
    "ohe_simp = OneHotEncoder(sparse=False, handle_unknown='ignore')"
   ]
  },
  {
   "cell_type": "code",
   "execution_count": 40,
   "id": "4989c3b3",
   "metadata": {},
   "outputs": [
    {
     "data": {
      "text/plain": [
       "OneHotEncoder(categories='auto', drop=None, dtype=<class 'numpy.float64'>,\n",
       "              handle_unknown='ignore', sparse=False)"
      ]
     },
     "execution_count": 40,
     "metadata": {},
     "output_type": "execute_result"
    }
   ],
   "source": [
    "# fit on categorical data\n",
    "ohe_simp.fit(X_train_simp[cat_cols_simp])"
   ]
  },
  {
   "cell_type": "code",
   "execution_count": 41,
   "id": "d72943aa",
   "metadata": {},
   "outputs": [],
   "source": [
    "X_train_encoded_simp = ohe_simp.transform(X_train_simp[cat_cols_simp])"
   ]
  },
  {
   "cell_type": "code",
   "execution_count": 42,
   "id": "8933d4c1",
   "metadata": {},
   "outputs": [],
   "source": [
    "X_train_encoded_df_simp = pd.DataFrame(X_train_encoded_simp, columns=ohe_simp.get_feature_names())"
   ]
  },
  {
   "cell_type": "markdown",
   "id": "6297463b",
   "metadata": {},
   "source": [
    "#### Merge the categorical and numerical data"
   ]
  },
  {
   "cell_type": "code",
   "execution_count": 43,
   "id": "de887c9d",
   "metadata": {},
   "outputs": [],
   "source": [
    "X_train_df_simp = pd.concat([X_train_scaled_simp, X_train_encoded_df_simp], axis=1)"
   ]
  },
  {
   "cell_type": "code",
   "execution_count": 44,
   "id": "3c38ec3d",
   "metadata": {},
   "outputs": [],
   "source": [
    "logreg1_simp = LogisticRegression(solver='liblinear')"
   ]
  },
  {
   "cell_type": "markdown",
   "id": "1794606f",
   "metadata": {},
   "source": [
    "#### Define a function for the model"
   ]
  },
  {
   "cell_type": "code",
   "execution_count": 45,
   "id": "ff418e33",
   "metadata": {},
   "outputs": [],
   "source": [
    "def modeling_function_simp(model, X_train, y_train):\n",
    "\n",
    "    # fit model on training data\n",
    "    model.fit(X_train, y_train)\n",
    "\n",
    "    # make predictions on training and validation data\n",
    "    train_preds = model.predict(X_train)\n",
    "\n",
    "    # Print accuracy score\n",
    "    print('Training accuracy: ', accuracy_score(y_train, train_preds))\n",
    "\n",
    "    # return fitted model\n",
    "    return model"
   ]
  },
  {
   "cell_type": "markdown",
   "id": "9a29be50",
   "metadata": {},
   "source": [
    "#### Run the baseline model "
   ]
  },
  {
   "cell_type": "code",
   "execution_count": 46,
   "id": "20c93944",
   "metadata": {},
   "outputs": [
    {
     "name": "stdout",
     "output_type": "stream",
     "text": [
      "Training accuracy:  0.6887610507169748\n"
     ]
    }
   ],
   "source": [
    "model_simp = modeling_function_simp(logreg1_simp, X_train_df_simp, y_train_simp)"
   ]
  },
  {
   "cell_type": "markdown",
   "id": "66524913",
   "metadata": {},
   "source": [
    "## Predictive Modeling "
   ]
  },
  {
   "cell_type": "markdown",
   "id": "9d5c0372",
   "metadata": {},
   "source": [
    "#### Define the target variable"
   ]
  },
  {
   "cell_type": "code",
   "execution_count": 47,
   "id": "cdd3e6de",
   "metadata": {},
   "outputs": [],
   "source": [
    "# Target\n",
    "y = sorted_training['status_group']\n",
    "# Features\n",
    "X = sorted_training.drop('status_group', axis=1)"
   ]
  },
  {
   "cell_type": "markdown",
   "id": "43058e85",
   "metadata": {},
   "source": [
    "#### Split the training and testing data"
   ]
  },
  {
   "cell_type": "code",
   "execution_count": 48,
   "id": "81686d9c",
   "metadata": {},
   "outputs": [],
   "source": [
    "X_tr, X_test, y_tr, y_test = train_test_split(X, y, test_size=.15, random_state=2021, stratify=y)"
   ]
  },
  {
   "cell_type": "code",
   "execution_count": 49,
   "id": "a8f8b871",
   "metadata": {},
   "outputs": [],
   "source": [
    "X_train, X_val, y_train, y_val = train_test_split(X_tr, y_tr, test_size=.15, random_state=2021, stratify=y_tr)"
   ]
  },
  {
   "cell_type": "markdown",
   "id": "00830582",
   "metadata": {},
   "source": [
    "#### Define the Categorical and Numberic Columns"
   ]
  },
  {
   "cell_type": "code",
   "execution_count": 50,
   "id": "f92ee6e1",
   "metadata": {},
   "outputs": [],
   "source": [
    "cat_cols = list(X.select_dtypes('object').columns)"
   ]
  },
  {
   "cell_type": "code",
   "execution_count": 51,
   "id": "103d801a",
   "metadata": {},
   "outputs": [],
   "source": [
    "num_cols = list(X.select_dtypes('number').columns)"
   ]
  },
  {
   "cell_type": "markdown",
   "id": "6cadcb82",
   "metadata": {},
   "source": [
    "#### Scale Numeric Data"
   ]
  },
  {
   "cell_type": "code",
   "execution_count": 52,
   "id": "0cb1bfb1",
   "metadata": {},
   "outputs": [
    {
     "data": {
      "text/plain": [
       "StandardScaler(copy=True, with_mean=True, with_std=True)"
      ]
     },
     "execution_count": 52,
     "metadata": {},
     "output_type": "execute_result"
    }
   ],
   "source": [
    "# Instantiate StandardScaler\n",
    "scaler = StandardScaler()\n",
    "# fit on Imputed training data\n",
    "scaler.fit(X_train[num_cols])"
   ]
  },
  {
   "cell_type": "code",
   "execution_count": 53,
   "id": "8b1a556f",
   "metadata": {},
   "outputs": [],
   "source": [
    "# transform training and validation data\n",
    "X_train_scaled = pd.DataFrame(scaler.transform(X_train[num_cols]), columns=num_cols)\n",
    "X_val_scaled = pd.DataFrame(scaler.transform(X_val[num_cols]), columns=num_cols)"
   ]
  },
  {
   "cell_type": "code",
   "execution_count": 54,
   "id": "210ff9c1",
   "metadata": {},
   "outputs": [],
   "source": [
    "#X_train_scaled"
   ]
  },
  {
   "cell_type": "markdown",
   "id": "29908f63",
   "metadata": {},
   "source": [
    "#### Encode Categorical Data"
   ]
  },
  {
   "cell_type": "code",
   "execution_count": 55,
   "id": "b16b03fe",
   "metadata": {},
   "outputs": [],
   "source": [
    "ohe = OneHotEncoder(sparse=False, handle_unknown='ignore')"
   ]
  },
  {
   "cell_type": "code",
   "execution_count": 56,
   "id": "9255c3d0",
   "metadata": {},
   "outputs": [
    {
     "data": {
      "text/plain": [
       "OneHotEncoder(categories='auto', drop=None, dtype=<class 'numpy.float64'>,\n",
       "              handle_unknown='ignore', sparse=False)"
      ]
     },
     "execution_count": 56,
     "metadata": {},
     "output_type": "execute_result"
    }
   ],
   "source": [
    "# fit on categorical data\n",
    "ohe.fit(X_train[cat_cols])"
   ]
  },
  {
   "cell_type": "code",
   "execution_count": 57,
   "id": "03e7f7a0",
   "metadata": {},
   "outputs": [],
   "source": [
    "#P(functional|installer) = P(installer|functional) * P(functional)/P(installer)\n",
    "#P(A and B) = P(A) * P(B|A)\n",
    "\n",
    "# P(installer|functional) = P(installer and functional)/P(installer)"
   ]
  },
  {
   "cell_type": "code",
   "execution_count": 58,
   "id": "d37ed615",
   "metadata": {},
   "outputs": [
    {
     "data": {
      "text/html": [
       "<div>\n",
       "<style scoped>\n",
       "    .dataframe tbody tr th:only-of-type {\n",
       "        vertical-align: middle;\n",
       "    }\n",
       "\n",
       "    .dataframe tbody tr th {\n",
       "        vertical-align: top;\n",
       "    }\n",
       "\n",
       "    .dataframe thead th {\n",
       "        text-align: right;\n",
       "    }\n",
       "</style>\n",
       "<table border=\"1\" class=\"dataframe\">\n",
       "  <thead>\n",
       "    <tr style=\"text-align: right;\">\n",
       "      <th></th>\n",
       "      <th>quantity</th>\n",
       "      <th>waterpoint_type</th>\n",
       "      <th>payment_type</th>\n",
       "      <th>management</th>\n",
       "      <th>water_quality</th>\n",
       "      <th>region</th>\n",
       "      <th>scheme_management</th>\n",
       "      <th>source</th>\n",
       "      <th>lga</th>\n",
       "      <th>funder</th>\n",
       "      <th>basin</th>\n",
       "      <th>installer</th>\n",
       "      <th>extraction_type</th>\n",
       "    </tr>\n",
       "  </thead>\n",
       "  <tbody>\n",
       "    <tr>\n",
       "      <th>40742</th>\n",
       "      <td>enough</td>\n",
       "      <td>communal standpipe multiple</td>\n",
       "      <td>per bucket</td>\n",
       "      <td>vwc</td>\n",
       "      <td>soft</td>\n",
       "      <td>Mara</td>\n",
       "      <td>VWC</td>\n",
       "      <td>dam</td>\n",
       "      <td>Tarime</td>\n",
       "      <td>Ministry Of Water</td>\n",
       "      <td>Lake Victoria</td>\n",
       "      <td>Wizara ya maji</td>\n",
       "      <td>ksb</td>\n",
       "    </tr>\n",
       "    <tr>\n",
       "      <th>40357</th>\n",
       "      <td>insufficient</td>\n",
       "      <td>communal standpipe</td>\n",
       "      <td>monthly</td>\n",
       "      <td>company</td>\n",
       "      <td>soft</td>\n",
       "      <td>Kilimanjaro</td>\n",
       "      <td>Company</td>\n",
       "      <td>spring</td>\n",
       "      <td>Rombo</td>\n",
       "      <td>Government Of Tanzania</td>\n",
       "      <td>Pangani</td>\n",
       "      <td>District council</td>\n",
       "      <td>gravity</td>\n",
       "    </tr>\n",
       "    <tr>\n",
       "      <th>7142</th>\n",
       "      <td>seasonal</td>\n",
       "      <td>communal standpipe</td>\n",
       "      <td>never pay</td>\n",
       "      <td>vwc</td>\n",
       "      <td>soft</td>\n",
       "      <td>Mtwara</td>\n",
       "      <td>Water Board</td>\n",
       "      <td>machine dbh</td>\n",
       "      <td>Tandahimba</td>\n",
       "      <td>Finw</td>\n",
       "      <td>Ruvuma / Southern Coast</td>\n",
       "      <td>FinW</td>\n",
       "      <td>submersible</td>\n",
       "    </tr>\n",
       "    <tr>\n",
       "      <th>42252</th>\n",
       "      <td>enough</td>\n",
       "      <td>communal standpipe multiple</td>\n",
       "      <td>never pay</td>\n",
       "      <td>vwc</td>\n",
       "      <td>soft</td>\n",
       "      <td>Arusha</td>\n",
       "      <td>VWC</td>\n",
       "      <td>spring</td>\n",
       "      <td>Arusha Rural</td>\n",
       "      <td>Padep</td>\n",
       "      <td>Internal</td>\n",
       "      <td>DWE</td>\n",
       "      <td>gravity</td>\n",
       "    </tr>\n",
       "    <tr>\n",
       "      <th>52308</th>\n",
       "      <td>enough</td>\n",
       "      <td>communal standpipe</td>\n",
       "      <td>never pay</td>\n",
       "      <td>vwc</td>\n",
       "      <td>soft</td>\n",
       "      <td>Mara</td>\n",
       "      <td>VWC</td>\n",
       "      <td>lake</td>\n",
       "      <td>Rorya</td>\n",
       "      <td>Ministry Of Water</td>\n",
       "      <td>Lake Victoria</td>\n",
       "      <td>Hesawa</td>\n",
       "      <td>submersible</td>\n",
       "    </tr>\n",
       "    <tr>\n",
       "      <th>...</th>\n",
       "      <td>...</td>\n",
       "      <td>...</td>\n",
       "      <td>...</td>\n",
       "      <td>...</td>\n",
       "      <td>...</td>\n",
       "      <td>...</td>\n",
       "      <td>...</td>\n",
       "      <td>...</td>\n",
       "      <td>...</td>\n",
       "      <td>...</td>\n",
       "      <td>...</td>\n",
       "      <td>...</td>\n",
       "      <td>...</td>\n",
       "    </tr>\n",
       "    <tr>\n",
       "      <th>43655</th>\n",
       "      <td>insufficient</td>\n",
       "      <td>communal standpipe</td>\n",
       "      <td>never pay</td>\n",
       "      <td>vwc</td>\n",
       "      <td>soft</td>\n",
       "      <td>Kilimanjaro</td>\n",
       "      <td>VWC</td>\n",
       "      <td>spring</td>\n",
       "      <td>Moshi Rural</td>\n",
       "      <td>Government Of Tanzania</td>\n",
       "      <td>Pangani</td>\n",
       "      <td>DWE</td>\n",
       "      <td>gravity</td>\n",
       "    </tr>\n",
       "    <tr>\n",
       "      <th>9955</th>\n",
       "      <td>enough</td>\n",
       "      <td>communal standpipe</td>\n",
       "      <td>monthly</td>\n",
       "      <td>vwc</td>\n",
       "      <td>soft</td>\n",
       "      <td>Iringa</td>\n",
       "      <td>VWC</td>\n",
       "      <td>spring</td>\n",
       "      <td>Ludewa</td>\n",
       "      <td>Roman</td>\n",
       "      <td>Lake Nyasa</td>\n",
       "      <td>wanan</td>\n",
       "      <td>gravity</td>\n",
       "    </tr>\n",
       "    <tr>\n",
       "      <th>22193</th>\n",
       "      <td>enough</td>\n",
       "      <td>communal standpipe</td>\n",
       "      <td>never pay</td>\n",
       "      <td>vwc</td>\n",
       "      <td>soft</td>\n",
       "      <td>Arusha</td>\n",
       "      <td>VWC</td>\n",
       "      <td>spring</td>\n",
       "      <td>Arusha Rural</td>\n",
       "      <td>Olgilai Village Community</td>\n",
       "      <td>Pangani</td>\n",
       "      <td>Olgilai village community</td>\n",
       "      <td>gravity</td>\n",
       "    </tr>\n",
       "    <tr>\n",
       "      <th>39728</th>\n",
       "      <td>insufficient</td>\n",
       "      <td>other</td>\n",
       "      <td>monthly</td>\n",
       "      <td>water board</td>\n",
       "      <td>soft</td>\n",
       "      <td>Kilimanjaro</td>\n",
       "      <td>Water Board</td>\n",
       "      <td>river</td>\n",
       "      <td>Mwanga</td>\n",
       "      <td>Government Of Tanzania</td>\n",
       "      <td>Pangani</td>\n",
       "      <td>Central govt</td>\n",
       "      <td>gravity</td>\n",
       "    </tr>\n",
       "    <tr>\n",
       "      <th>30008</th>\n",
       "      <td>enough</td>\n",
       "      <td>communal standpipe</td>\n",
       "      <td>monthly</td>\n",
       "      <td>vwc</td>\n",
       "      <td>soft</td>\n",
       "      <td>Morogoro</td>\n",
       "      <td>VWC</td>\n",
       "      <td>river</td>\n",
       "      <td>Morogoro Rural</td>\n",
       "      <td>World Bank</td>\n",
       "      <td>Wami / Ruvu</td>\n",
       "      <td>Jicks</td>\n",
       "      <td>gravity</td>\n",
       "    </tr>\n",
       "  </tbody>\n",
       "</table>\n",
       "<p>20094 rows × 13 columns</p>\n",
       "</div>"
      ],
      "text/plain": [
       "           quantity              waterpoint_type payment_type   management  \\\n",
       "40742        enough  communal standpipe multiple   per bucket          vwc   \n",
       "40357  insufficient           communal standpipe      monthly      company   \n",
       "7142       seasonal           communal standpipe    never pay          vwc   \n",
       "42252        enough  communal standpipe multiple    never pay          vwc   \n",
       "52308        enough           communal standpipe    never pay          vwc   \n",
       "...             ...                          ...          ...          ...   \n",
       "43655  insufficient           communal standpipe    never pay          vwc   \n",
       "9955         enough           communal standpipe      monthly          vwc   \n",
       "22193        enough           communal standpipe    never pay          vwc   \n",
       "39728  insufficient                        other      monthly  water board   \n",
       "30008        enough           communal standpipe      monthly          vwc   \n",
       "\n",
       "      water_quality       region scheme_management       source  \\\n",
       "40742          soft         Mara               VWC          dam   \n",
       "40357          soft  Kilimanjaro           Company       spring   \n",
       "7142           soft       Mtwara       Water Board  machine dbh   \n",
       "42252          soft       Arusha               VWC       spring   \n",
       "52308          soft         Mara               VWC         lake   \n",
       "...             ...          ...               ...          ...   \n",
       "43655          soft  Kilimanjaro               VWC       spring   \n",
       "9955           soft       Iringa               VWC       spring   \n",
       "22193          soft       Arusha               VWC       spring   \n",
       "39728          soft  Kilimanjaro       Water Board        river   \n",
       "30008          soft     Morogoro               VWC        river   \n",
       "\n",
       "                  lga                     funder                    basin  \\\n",
       "40742          Tarime          Ministry Of Water            Lake Victoria   \n",
       "40357           Rombo     Government Of Tanzania                  Pangani   \n",
       "7142       Tandahimba                       Finw  Ruvuma / Southern Coast   \n",
       "42252    Arusha Rural                      Padep                 Internal   \n",
       "52308           Rorya          Ministry Of Water            Lake Victoria   \n",
       "...               ...                        ...                      ...   \n",
       "43655     Moshi Rural     Government Of Tanzania                  Pangani   \n",
       "9955           Ludewa                      Roman               Lake Nyasa   \n",
       "22193    Arusha Rural  Olgilai Village Community                  Pangani   \n",
       "39728          Mwanga     Government Of Tanzania                  Pangani   \n",
       "30008  Morogoro Rural                 World Bank              Wami / Ruvu   \n",
       "\n",
       "                       installer extraction_type  \n",
       "40742             Wizara ya maji             ksb  \n",
       "40357           District council         gravity  \n",
       "7142                        FinW     submersible  \n",
       "42252                        DWE         gravity  \n",
       "52308                     Hesawa     submersible  \n",
       "...                          ...             ...  \n",
       "43655                        DWE         gravity  \n",
       "9955                       wanan         gravity  \n",
       "22193  Olgilai village community         gravity  \n",
       "39728               Central govt         gravity  \n",
       "30008                      Jicks         gravity  \n",
       "\n",
       "[20094 rows x 13 columns]"
      ]
     },
     "execution_count": 58,
     "metadata": {},
     "output_type": "execute_result"
    }
   ],
   "source": [
    "X_train[cat_cols]"
   ]
  },
  {
   "cell_type": "code",
   "execution_count": 59,
   "id": "70f15914",
   "metadata": {},
   "outputs": [],
   "source": [
    "# transform training and validation data\n",
    "X_train_encoded = ohe.transform(X_train[cat_cols])\n",
    "X_val_encoded = ohe.transform(X_val[cat_cols])"
   ]
  },
  {
   "cell_type": "code",
   "execution_count": 60,
   "id": "954284ab",
   "metadata": {},
   "outputs": [],
   "source": [
    "X_train_encoded_df = pd.DataFrame(X_train_encoded, columns=ohe.get_feature_names())\n",
    "X_val_encoded_df = pd.DataFrame(X_val_encoded, columns=ohe.get_feature_names())"
   ]
  },
  {
   "cell_type": "code",
   "execution_count": 61,
   "id": "649f7ebb",
   "metadata": {},
   "outputs": [
    {
     "data": {
      "text/html": [
       "<div>\n",
       "<style scoped>\n",
       "    .dataframe tbody tr th:only-of-type {\n",
       "        vertical-align: middle;\n",
       "    }\n",
       "\n",
       "    .dataframe tbody tr th {\n",
       "        vertical-align: top;\n",
       "    }\n",
       "\n",
       "    .dataframe thead th {\n",
       "        text-align: right;\n",
       "    }\n",
       "</style>\n",
       "<table border=\"1\" class=\"dataframe\">\n",
       "  <thead>\n",
       "    <tr style=\"text-align: right;\">\n",
       "      <th></th>\n",
       "      <th>x0_dry</th>\n",
       "      <th>x0_enough</th>\n",
       "      <th>x0_insufficient</th>\n",
       "      <th>x0_seasonal</th>\n",
       "      <th>x0_unknown</th>\n",
       "      <th>x1_cattle trough</th>\n",
       "      <th>x1_communal standpipe</th>\n",
       "      <th>x1_communal standpipe multiple</th>\n",
       "      <th>x1_dam</th>\n",
       "      <th>x1_hand pump</th>\n",
       "      <th>...</th>\n",
       "      <th>x12_ksb</th>\n",
       "      <th>x12_mono</th>\n",
       "      <th>x12_nira/tanira</th>\n",
       "      <th>x12_other</th>\n",
       "      <th>x12_other - play pump</th>\n",
       "      <th>x12_other - rope pump</th>\n",
       "      <th>x12_other - swn 81</th>\n",
       "      <th>x12_submersible</th>\n",
       "      <th>x12_swn 80</th>\n",
       "      <th>x12_windmill</th>\n",
       "    </tr>\n",
       "  </thead>\n",
       "  <tbody>\n",
       "    <tr>\n",
       "      <th>0</th>\n",
       "      <td>0.0</td>\n",
       "      <td>1.0</td>\n",
       "      <td>0.0</td>\n",
       "      <td>0.0</td>\n",
       "      <td>0.0</td>\n",
       "      <td>0.0</td>\n",
       "      <td>0.0</td>\n",
       "      <td>1.0</td>\n",
       "      <td>0.0</td>\n",
       "      <td>0.0</td>\n",
       "      <td>...</td>\n",
       "      <td>1.0</td>\n",
       "      <td>0.0</td>\n",
       "      <td>0.0</td>\n",
       "      <td>0.0</td>\n",
       "      <td>0.0</td>\n",
       "      <td>0.0</td>\n",
       "      <td>0.0</td>\n",
       "      <td>0.0</td>\n",
       "      <td>0.0</td>\n",
       "      <td>0.0</td>\n",
       "    </tr>\n",
       "    <tr>\n",
       "      <th>1</th>\n",
       "      <td>0.0</td>\n",
       "      <td>0.0</td>\n",
       "      <td>1.0</td>\n",
       "      <td>0.0</td>\n",
       "      <td>0.0</td>\n",
       "      <td>0.0</td>\n",
       "      <td>1.0</td>\n",
       "      <td>0.0</td>\n",
       "      <td>0.0</td>\n",
       "      <td>0.0</td>\n",
       "      <td>...</td>\n",
       "      <td>0.0</td>\n",
       "      <td>0.0</td>\n",
       "      <td>0.0</td>\n",
       "      <td>0.0</td>\n",
       "      <td>0.0</td>\n",
       "      <td>0.0</td>\n",
       "      <td>0.0</td>\n",
       "      <td>0.0</td>\n",
       "      <td>0.0</td>\n",
       "      <td>0.0</td>\n",
       "    </tr>\n",
       "    <tr>\n",
       "      <th>2</th>\n",
       "      <td>0.0</td>\n",
       "      <td>0.0</td>\n",
       "      <td>0.0</td>\n",
       "      <td>1.0</td>\n",
       "      <td>0.0</td>\n",
       "      <td>0.0</td>\n",
       "      <td>1.0</td>\n",
       "      <td>0.0</td>\n",
       "      <td>0.0</td>\n",
       "      <td>0.0</td>\n",
       "      <td>...</td>\n",
       "      <td>0.0</td>\n",
       "      <td>0.0</td>\n",
       "      <td>0.0</td>\n",
       "      <td>0.0</td>\n",
       "      <td>0.0</td>\n",
       "      <td>0.0</td>\n",
       "      <td>0.0</td>\n",
       "      <td>1.0</td>\n",
       "      <td>0.0</td>\n",
       "      <td>0.0</td>\n",
       "    </tr>\n",
       "    <tr>\n",
       "      <th>3</th>\n",
       "      <td>0.0</td>\n",
       "      <td>1.0</td>\n",
       "      <td>0.0</td>\n",
       "      <td>0.0</td>\n",
       "      <td>0.0</td>\n",
       "      <td>0.0</td>\n",
       "      <td>0.0</td>\n",
       "      <td>1.0</td>\n",
       "      <td>0.0</td>\n",
       "      <td>0.0</td>\n",
       "      <td>...</td>\n",
       "      <td>0.0</td>\n",
       "      <td>0.0</td>\n",
       "      <td>0.0</td>\n",
       "      <td>0.0</td>\n",
       "      <td>0.0</td>\n",
       "      <td>0.0</td>\n",
       "      <td>0.0</td>\n",
       "      <td>0.0</td>\n",
       "      <td>0.0</td>\n",
       "      <td>0.0</td>\n",
       "    </tr>\n",
       "    <tr>\n",
       "      <th>4</th>\n",
       "      <td>0.0</td>\n",
       "      <td>1.0</td>\n",
       "      <td>0.0</td>\n",
       "      <td>0.0</td>\n",
       "      <td>0.0</td>\n",
       "      <td>0.0</td>\n",
       "      <td>1.0</td>\n",
       "      <td>0.0</td>\n",
       "      <td>0.0</td>\n",
       "      <td>0.0</td>\n",
       "      <td>...</td>\n",
       "      <td>0.0</td>\n",
       "      <td>0.0</td>\n",
       "      <td>0.0</td>\n",
       "      <td>0.0</td>\n",
       "      <td>0.0</td>\n",
       "      <td>0.0</td>\n",
       "      <td>0.0</td>\n",
       "      <td>1.0</td>\n",
       "      <td>0.0</td>\n",
       "      <td>0.0</td>\n",
       "    </tr>\n",
       "    <tr>\n",
       "      <th>...</th>\n",
       "      <td>...</td>\n",
       "      <td>...</td>\n",
       "      <td>...</td>\n",
       "      <td>...</td>\n",
       "      <td>...</td>\n",
       "      <td>...</td>\n",
       "      <td>...</td>\n",
       "      <td>...</td>\n",
       "      <td>...</td>\n",
       "      <td>...</td>\n",
       "      <td>...</td>\n",
       "      <td>...</td>\n",
       "      <td>...</td>\n",
       "      <td>...</td>\n",
       "      <td>...</td>\n",
       "      <td>...</td>\n",
       "      <td>...</td>\n",
       "      <td>...</td>\n",
       "      <td>...</td>\n",
       "      <td>...</td>\n",
       "      <td>...</td>\n",
       "    </tr>\n",
       "    <tr>\n",
       "      <th>20089</th>\n",
       "      <td>0.0</td>\n",
       "      <td>0.0</td>\n",
       "      <td>1.0</td>\n",
       "      <td>0.0</td>\n",
       "      <td>0.0</td>\n",
       "      <td>0.0</td>\n",
       "      <td>1.0</td>\n",
       "      <td>0.0</td>\n",
       "      <td>0.0</td>\n",
       "      <td>0.0</td>\n",
       "      <td>...</td>\n",
       "      <td>0.0</td>\n",
       "      <td>0.0</td>\n",
       "      <td>0.0</td>\n",
       "      <td>0.0</td>\n",
       "      <td>0.0</td>\n",
       "      <td>0.0</td>\n",
       "      <td>0.0</td>\n",
       "      <td>0.0</td>\n",
       "      <td>0.0</td>\n",
       "      <td>0.0</td>\n",
       "    </tr>\n",
       "    <tr>\n",
       "      <th>20090</th>\n",
       "      <td>0.0</td>\n",
       "      <td>1.0</td>\n",
       "      <td>0.0</td>\n",
       "      <td>0.0</td>\n",
       "      <td>0.0</td>\n",
       "      <td>0.0</td>\n",
       "      <td>1.0</td>\n",
       "      <td>0.0</td>\n",
       "      <td>0.0</td>\n",
       "      <td>0.0</td>\n",
       "      <td>...</td>\n",
       "      <td>0.0</td>\n",
       "      <td>0.0</td>\n",
       "      <td>0.0</td>\n",
       "      <td>0.0</td>\n",
       "      <td>0.0</td>\n",
       "      <td>0.0</td>\n",
       "      <td>0.0</td>\n",
       "      <td>0.0</td>\n",
       "      <td>0.0</td>\n",
       "      <td>0.0</td>\n",
       "    </tr>\n",
       "    <tr>\n",
       "      <th>20091</th>\n",
       "      <td>0.0</td>\n",
       "      <td>1.0</td>\n",
       "      <td>0.0</td>\n",
       "      <td>0.0</td>\n",
       "      <td>0.0</td>\n",
       "      <td>0.0</td>\n",
       "      <td>1.0</td>\n",
       "      <td>0.0</td>\n",
       "      <td>0.0</td>\n",
       "      <td>0.0</td>\n",
       "      <td>...</td>\n",
       "      <td>0.0</td>\n",
       "      <td>0.0</td>\n",
       "      <td>0.0</td>\n",
       "      <td>0.0</td>\n",
       "      <td>0.0</td>\n",
       "      <td>0.0</td>\n",
       "      <td>0.0</td>\n",
       "      <td>0.0</td>\n",
       "      <td>0.0</td>\n",
       "      <td>0.0</td>\n",
       "    </tr>\n",
       "    <tr>\n",
       "      <th>20092</th>\n",
       "      <td>0.0</td>\n",
       "      <td>0.0</td>\n",
       "      <td>1.0</td>\n",
       "      <td>0.0</td>\n",
       "      <td>0.0</td>\n",
       "      <td>0.0</td>\n",
       "      <td>0.0</td>\n",
       "      <td>0.0</td>\n",
       "      <td>0.0</td>\n",
       "      <td>0.0</td>\n",
       "      <td>...</td>\n",
       "      <td>0.0</td>\n",
       "      <td>0.0</td>\n",
       "      <td>0.0</td>\n",
       "      <td>0.0</td>\n",
       "      <td>0.0</td>\n",
       "      <td>0.0</td>\n",
       "      <td>0.0</td>\n",
       "      <td>0.0</td>\n",
       "      <td>0.0</td>\n",
       "      <td>0.0</td>\n",
       "    </tr>\n",
       "    <tr>\n",
       "      <th>20093</th>\n",
       "      <td>0.0</td>\n",
       "      <td>1.0</td>\n",
       "      <td>0.0</td>\n",
       "      <td>0.0</td>\n",
       "      <td>0.0</td>\n",
       "      <td>0.0</td>\n",
       "      <td>1.0</td>\n",
       "      <td>0.0</td>\n",
       "      <td>0.0</td>\n",
       "      <td>0.0</td>\n",
       "      <td>...</td>\n",
       "      <td>0.0</td>\n",
       "      <td>0.0</td>\n",
       "      <td>0.0</td>\n",
       "      <td>0.0</td>\n",
       "      <td>0.0</td>\n",
       "      <td>0.0</td>\n",
       "      <td>0.0</td>\n",
       "      <td>0.0</td>\n",
       "      <td>0.0</td>\n",
       "      <td>0.0</td>\n",
       "    </tr>\n",
       "  </tbody>\n",
       "</table>\n",
       "<p>20094 rows × 1780 columns</p>\n",
       "</div>"
      ],
      "text/plain": [
       "       x0_dry  x0_enough  x0_insufficient  x0_seasonal  x0_unknown  \\\n",
       "0         0.0        1.0              0.0          0.0         0.0   \n",
       "1         0.0        0.0              1.0          0.0         0.0   \n",
       "2         0.0        0.0              0.0          1.0         0.0   \n",
       "3         0.0        1.0              0.0          0.0         0.0   \n",
       "4         0.0        1.0              0.0          0.0         0.0   \n",
       "...       ...        ...              ...          ...         ...   \n",
       "20089     0.0        0.0              1.0          0.0         0.0   \n",
       "20090     0.0        1.0              0.0          0.0         0.0   \n",
       "20091     0.0        1.0              0.0          0.0         0.0   \n",
       "20092     0.0        0.0              1.0          0.0         0.0   \n",
       "20093     0.0        1.0              0.0          0.0         0.0   \n",
       "\n",
       "       x1_cattle trough  x1_communal standpipe  \\\n",
       "0                   0.0                    0.0   \n",
       "1                   0.0                    1.0   \n",
       "2                   0.0                    1.0   \n",
       "3                   0.0                    0.0   \n",
       "4                   0.0                    1.0   \n",
       "...                 ...                    ...   \n",
       "20089               0.0                    1.0   \n",
       "20090               0.0                    1.0   \n",
       "20091               0.0                    1.0   \n",
       "20092               0.0                    0.0   \n",
       "20093               0.0                    1.0   \n",
       "\n",
       "       x1_communal standpipe multiple  x1_dam  x1_hand pump  ...  x12_ksb  \\\n",
       "0                                 1.0     0.0           0.0  ...      1.0   \n",
       "1                                 0.0     0.0           0.0  ...      0.0   \n",
       "2                                 0.0     0.0           0.0  ...      0.0   \n",
       "3                                 1.0     0.0           0.0  ...      0.0   \n",
       "4                                 0.0     0.0           0.0  ...      0.0   \n",
       "...                               ...     ...           ...  ...      ...   \n",
       "20089                             0.0     0.0           0.0  ...      0.0   \n",
       "20090                             0.0     0.0           0.0  ...      0.0   \n",
       "20091                             0.0     0.0           0.0  ...      0.0   \n",
       "20092                             0.0     0.0           0.0  ...      0.0   \n",
       "20093                             0.0     0.0           0.0  ...      0.0   \n",
       "\n",
       "       x12_mono  x12_nira/tanira  x12_other  x12_other - play pump  \\\n",
       "0           0.0              0.0        0.0                    0.0   \n",
       "1           0.0              0.0        0.0                    0.0   \n",
       "2           0.0              0.0        0.0                    0.0   \n",
       "3           0.0              0.0        0.0                    0.0   \n",
       "4           0.0              0.0        0.0                    0.0   \n",
       "...         ...              ...        ...                    ...   \n",
       "20089       0.0              0.0        0.0                    0.0   \n",
       "20090       0.0              0.0        0.0                    0.0   \n",
       "20091       0.0              0.0        0.0                    0.0   \n",
       "20092       0.0              0.0        0.0                    0.0   \n",
       "20093       0.0              0.0        0.0                    0.0   \n",
       "\n",
       "       x12_other - rope pump  x12_other - swn 81  x12_submersible  x12_swn 80  \\\n",
       "0                        0.0                 0.0              0.0         0.0   \n",
       "1                        0.0                 0.0              0.0         0.0   \n",
       "2                        0.0                 0.0              1.0         0.0   \n",
       "3                        0.0                 0.0              0.0         0.0   \n",
       "4                        0.0                 0.0              1.0         0.0   \n",
       "...                      ...                 ...              ...         ...   \n",
       "20089                    0.0                 0.0              0.0         0.0   \n",
       "20090                    0.0                 0.0              0.0         0.0   \n",
       "20091                    0.0                 0.0              0.0         0.0   \n",
       "20092                    0.0                 0.0              0.0         0.0   \n",
       "20093                    0.0                 0.0              0.0         0.0   \n",
       "\n",
       "       x12_windmill  \n",
       "0               0.0  \n",
       "1               0.0  \n",
       "2               0.0  \n",
       "3               0.0  \n",
       "4               0.0  \n",
       "...             ...  \n",
       "20089           0.0  \n",
       "20090           0.0  \n",
       "20091           0.0  \n",
       "20092           0.0  \n",
       "20093           0.0  \n",
       "\n",
       "[20094 rows x 1780 columns]"
      ]
     },
     "execution_count": 61,
     "metadata": {},
     "output_type": "execute_result"
    }
   ],
   "source": [
    "X_train_encoded_df"
   ]
  },
  {
   "cell_type": "markdown",
   "id": "3bc5dd76",
   "metadata": {},
   "source": [
    "#### Combine Scaled and Encoded Data"
   ]
  },
  {
   "cell_type": "code",
   "execution_count": 62,
   "id": "eb91e09c",
   "metadata": {},
   "outputs": [],
   "source": [
    "X_train_df = pd.concat([X_train_scaled, X_train_encoded_df], axis=1)\n",
    "X_val_df = pd.concat([X_val_scaled, X_val_encoded_df], axis=1)"
   ]
  },
  {
   "cell_type": "code",
   "execution_count": 63,
   "id": "dba1c170",
   "metadata": {},
   "outputs": [
    {
     "data": {
      "text/plain": [
       "(20094, 1787)"
      ]
     },
     "execution_count": 63,
     "metadata": {},
     "output_type": "execute_result"
    }
   ],
   "source": [
    "X_train_df.shape"
   ]
  },
  {
   "cell_type": "code",
   "execution_count": 64,
   "id": "f4b69e15",
   "metadata": {},
   "outputs": [
    {
     "data": {
      "text/plain": [
       "(3547, 1787)"
      ]
     },
     "execution_count": 64,
     "metadata": {},
     "output_type": "execute_result"
    }
   ],
   "source": [
    "X_val_df.shape"
   ]
  },
  {
   "cell_type": "markdown",
   "id": "2bfbe616",
   "metadata": {},
   "source": [
    "### Model 1"
   ]
  },
  {
   "cell_type": "code",
   "execution_count": 65,
   "id": "b609872c",
   "metadata": {},
   "outputs": [],
   "source": [
    "logreg1 = LogisticRegression(solver='liblinear')"
   ]
  },
  {
   "cell_type": "code",
   "execution_count": 66,
   "id": "3129cd0a",
   "metadata": {},
   "outputs": [],
   "source": [
    "def modeling_function(model, X_train, y_train, X_val, y_val):\n",
    "\n",
    "    # fit model on training data\n",
    "    model.fit(X_train, y_train)\n",
    "\n",
    "    # make predictions on training and validation data\n",
    "    train_preds = model.predict(X_train)\n",
    "    val_preds = model.predict(X_val)\n",
    "\n",
    "    # Print accuracy score\n",
    "    print('Training accuracy: ', accuracy_score(y_train, train_preds))\n",
    "    print('Validation accuracy: ', accuracy_score(y_val, val_preds))\n",
    "\n",
    "    # return fitted model\n",
    "    return model"
   ]
  },
  {
   "cell_type": "code",
   "execution_count": 67,
   "id": "a8763456",
   "metadata": {},
   "outputs": [
    {
     "name": "stdout",
     "output_type": "stream",
     "text": [
      "Training accuracy:  0.8033741415347865\n",
      "Validation accuracy:  0.7851705666760643\n"
     ]
    }
   ],
   "source": [
    "model_1 = modeling_function(logreg1, X_train_df, y_train, X_val_df, y_val)"
   ]
  },
  {
   "cell_type": "code",
   "execution_count": 68,
   "id": "08de47c9",
   "metadata": {},
   "outputs": [
    {
     "data": {
      "text/plain": [
       "<sklearn.metrics._plot.confusion_matrix.ConfusionMatrixDisplay at 0x12b5d68b0>"
      ]
     },
     "execution_count": 68,
     "metadata": {},
     "output_type": "execute_result"
    },
    {
     "data": {
      "image/png": "[encoded data removed]",
      "text/plain": [
       "<Figure size 432x288 with 2 Axes>"
      ]
     },
     "metadata": {
      "needs_background": "light"
     },
     "output_type": "display_data"
    }
   ],
   "source": [
    "plot_confusion_matrix(logreg1, X_train_df, y_train)"
   ]
  },
  {
   "cell_type": "code",
   "execution_count": 67,
   "id": "d2c2818f",
   "metadata": {},
   "outputs": [
    {
     "data": {
      "text/plain": [
       "0    16056\n",
       "2     9744\n",
       "1     2013\n",
       "Name: status_group, dtype: int64"
      ]
     },
     "execution_count": 67,
     "metadata": {},
     "output_type": "execute_result"
    }
   ],
   "source": [
    "y.value_counts()"
   ]
  },
  {
   "cell_type": "code",
   "execution_count": 68,
   "id": "d90a29a7",
   "metadata": {},
   "outputs": [],
   "source": [
    "#!pip install imbalanced-learn==0.6.0\n",
    "#!pip install scikit-learn==0.22.1"
   ]
  },
  {
   "cell_type": "code",
   "execution_count": 69,
   "id": "46def348",
   "metadata": {},
   "outputs": [],
   "source": [
    "#pip install imblearn"
   ]
  },
  {
   "cell_type": "code",
   "execution_count": 70,
   "id": "acbc02b0",
   "metadata": {},
   "outputs": [],
   "source": [
    "from imblearn.over_sampling import SMOTE"
   ]
  },
  {
   "cell_type": "code",
   "execution_count": 71,
   "id": "0d6263fb",
   "metadata": {},
   "outputs": [],
   "source": [
    "sm = SMOTE(random_state=2021)"
   ]
  },
  {
   "cell_type": "code",
   "execution_count": 72,
   "id": "0adfc4ae",
   "metadata": {},
   "outputs": [],
   "source": [
    "X_train_res, y_train_res = sm.fit_resample(X_train_df, y_train)"
   ]
  },
  {
   "cell_type": "code",
   "execution_count": 73,
   "id": "5a1b06ce",
   "metadata": {},
   "outputs": [
    {
     "data": {
      "text/plain": [
       "2    11573\n",
       "1    11573\n",
       "0    11573\n",
       "Name: status_group, dtype: int64"
      ]
     },
     "execution_count": 73,
     "metadata": {},
     "output_type": "execute_result"
    }
   ],
   "source": [
    "y_train_res.value_counts()"
   ]
  },
  {
   "cell_type": "markdown",
   "id": "e4274106",
   "metadata": {},
   "source": [
    "### Model 2\n",
    "Use the smote data to see if fixing the class imbalance will improve the model... it didnt "
   ]
  },
  {
   "cell_type": "code",
   "execution_count": 74,
   "id": "163324ea",
   "metadata": {},
   "outputs": [],
   "source": [
    "logreg2 = LogisticRegression(solver='liblinear')"
   ]
  },
  {
   "cell_type": "code",
   "execution_count": 75,
   "id": "cad3be5b",
   "metadata": {},
   "outputs": [
    {
     "data": {
      "text/plain": [
       "LogisticRegression(C=1.0, class_weight=None, dual=False, fit_intercept=True,\n",
       "                   intercept_scaling=1, l1_ratio=None, max_iter=100,\n",
       "                   multi_class='auto', n_jobs=None, penalty='l2',\n",
       "                   random_state=None, solver='liblinear', tol=0.0001, verbose=0,\n",
       "                   warm_start=False)"
      ]
     },
     "execution_count": 75,
     "metadata": {},
     "output_type": "execute_result"
    }
   ],
   "source": [
    "logreg2.fit(X_train_res, y_train_res)"
   ]
  },
  {
   "cell_type": "code",
   "execution_count": 76,
   "id": "e33a5134",
   "metadata": {},
   "outputs": [
    {
     "name": "stdout",
     "output_type": "stream",
     "text": [
      "Training accuracy:  0.7548028457040813\n",
      "Validation accuracy:  0.7028474767409079\n"
     ]
    }
   ],
   "source": [
    "logreg2 = modeling_function(logreg2, X_train_res, y_train_res, X_val_df, y_val)"
   ]
  },
  {
   "cell_type": "markdown",
   "id": "d4dfcbb1",
   "metadata": {},
   "source": [
    "### Model 3"
   ]
  },
  {
   "cell_type": "code",
   "execution_count": 77,
   "id": "9763d668",
   "metadata": {},
   "outputs": [],
   "source": [
    "def modeling_score(model, X_train, y_train, X_val, y_val):\n",
    "\n",
    "    # fit model on training data\n",
    "    model.fit(X_train, y_train)\n",
    "\n",
    "    # make predictions on training and validation data\n",
    "    train_preds = model.predict(X_train)\n",
    "    val_preds = model.predict(X_val)\n",
    "\n",
    "    return accuracy_score(y_train, train_preds), accuracy_score(y_val, val_preds)\n",
    "\n",
    "cs = np.arange(.01, 1, .01)\n",
    "\n",
    "train_scores = []\n",
    "val_scores = []\n",
    "\n",
    "for c in cs:\n",
    "    logreg3 = LogisticRegression(solver='liblinear', penalty='l1', C=c)\n",
    "    train_, val_ = modeling_score(logreg3, X_train_res, y_train_res, X_val_df, y_val)\n",
    "    train_scores.append(train_)\n",
    "    val_scores.append(val_)"
   ]
  },
  {
   "cell_type": "code",
   "execution_count": 78,
   "id": "a86725fb",
   "metadata": {},
   "outputs": [
    {
     "data": {
      "text/plain": [
       "<matplotlib.legend.Legend at 0x11d6f02b0>"
      ]
     },
     "execution_count": 78,
     "metadata": {},
     "output_type": "execute_result"
    },
    {
     "data": {
      "image/png": "[encoded data removed]",
      "text/plain": [
       "<Figure size 432x288 with 1 Axes>"
      ]
     },
     "metadata": {
      "needs_background": "light"
     },
     "output_type": "display_data"
    }
   ],
   "source": [
    "plt.plot(cs, train_scores, label='train')\n",
    "plt.plot(cs, val_scores, label='val')\n",
    "plt.vlines(0.38, .66, .76)\n",
    "plt.legend()"
   ]
  },
  {
   "cell_type": "code",
   "execution_count": 79,
   "id": "63d71093",
   "metadata": {},
   "outputs": [],
   "source": [
    "#sorted(list(zip(cs, val_scores)), key=lambda x: x[1], reverse=True)"
   ]
  },
  {
   "cell_type": "code",
   "execution_count": 80,
   "id": "9f869c36",
   "metadata": {},
   "outputs": [
    {
     "name": "stdout",
     "output_type": "stream",
     "text": [
      "Training accuracy:  0.7550044644142977\n",
      "Validation accuracy:  0.70228361996053\n"
     ]
    }
   ],
   "source": [
    "logreg3 = modeling_function(logreg3, X_train_res, y_train_res, X_val_df, y_val)"
   ]
  },
  {
   "cell_type": "code",
   "execution_count": 81,
   "id": "169e9843",
   "metadata": {},
   "outputs": [],
   "source": [
    "logreg3 = modeling_score(logreg3, X_train_res, y_train_res, X_val_df, y_val)"
   ]
  },
  {
   "cell_type": "markdown",
   "id": "8e6199e8",
   "metadata": {},
   "source": [
    "### Model 4"
   ]
  },
  {
   "cell_type": "code",
   "execution_count": 82,
   "id": "14a7ad3b",
   "metadata": {},
   "outputs": [],
   "source": [
    "rf = RandomForestClassifier(random_state=2021)"
   ]
  },
  {
   "cell_type": "code",
   "execution_count": 83,
   "id": "dbae4b16",
   "metadata": {},
   "outputs": [
    {
     "name": "stdout",
     "output_type": "stream",
     "text": [
      "Training accuracy:  1.0\n",
      "Validation accuracy:  0.8280236819847758\n"
     ]
    }
   ],
   "source": [
    "rf = modeling_function(rf, X_train_df, y_train, X_val_df, y_val)"
   ]
  },
  {
   "cell_type": "code",
   "execution_count": 84,
   "id": "3f29aae7",
   "metadata": {},
   "outputs": [],
   "source": [
    "param_grid = {'n_estimators': [50, 75, 100],\n",
    "                'max_depth': [5, 10, 15],\n",
    "                'min_samples_leaf': [6, 8, 10],\n",
    "              'criterion': ['gini', 'entropy'],\n",
    "                 'n_jobs': [-1]}"
   ]
  },
  {
   "cell_type": "code",
   "execution_count": 85,
   "id": "9ac140b3",
   "metadata": {},
   "outputs": [],
   "source": [
    "rf_gs = GridSearchCV(estimator=rf, param_grid=param_grid, scoring='accuracy')"
   ]
  },
  {
   "cell_type": "code",
   "execution_count": 86,
   "id": "1965e5e5",
   "metadata": {},
   "outputs": [
    {
     "data": {
      "text/plain": [
       "GridSearchCV(cv=None, error_score=nan,\n",
       "             estimator=RandomForestClassifier(bootstrap=True, ccp_alpha=0.0,\n",
       "                                              class_weight=None,\n",
       "                                              criterion='gini', max_depth=None,\n",
       "                                              max_features='auto',\n",
       "                                              max_leaf_nodes=None,\n",
       "                                              max_samples=None,\n",
       "                                              min_impurity_decrease=0.0,\n",
       "                                              min_impurity_split=None,\n",
       "                                              min_samples_leaf=1,\n",
       "                                              min_samples_split=2,\n",
       "                                              min_weight_fraction_leaf=0.0,\n",
       "                                              n_estimators=100, n_jobs=None,\n",
       "                                              oob_score=False,\n",
       "                                              random_state=2021, verbose=0,\n",
       "                                              warm_start=False),\n",
       "             iid='deprecated', n_jobs=None,\n",
       "             param_grid={'criterion': ['gini', 'entropy'],\n",
       "                         'max_depth': [5, 10, 15],\n",
       "                         'min_samples_leaf': [6, 8, 10],\n",
       "                         'n_estimators': [50, 75, 100], 'n_jobs': [-1]},\n",
       "             pre_dispatch='2*n_jobs', refit=True, return_train_score=False,\n",
       "             scoring='accuracy', verbose=0)"
      ]
     },
     "execution_count": 86,
     "metadata": {},
     "output_type": "execute_result"
    }
   ],
   "source": [
    "rf_gs.fit(X_train_df, y_train)"
   ]
  },
  {
   "cell_type": "code",
   "execution_count": 87,
   "id": "3c33dd4e",
   "metadata": {},
   "outputs": [
    {
     "data": {
      "text/plain": [
       "RandomForestClassifier(bootstrap=True, ccp_alpha=0.0, class_weight=None,\n",
       "                       criterion='gini', max_depth=15, max_features='auto',\n",
       "                       max_leaf_nodes=None, max_samples=None,\n",
       "                       min_impurity_decrease=0.0, min_impurity_split=None,\n",
       "                       min_samples_leaf=6, min_samples_split=2,\n",
       "                       min_weight_fraction_leaf=0.0, n_estimators=100,\n",
       "                       n_jobs=-1, oob_score=False, random_state=2021, verbose=0,\n",
       "                       warm_start=False)"
      ]
     },
     "execution_count": 87,
     "metadata": {},
     "output_type": "execute_result"
    }
   ],
   "source": [
    "rf_gs1 = rf_gs.best_estimator_\n",
    "rf_gs1"
   ]
  },
  {
   "cell_type": "code",
   "execution_count": 88,
   "id": "e39b9ba2",
   "metadata": {},
   "outputs": [
    {
     "data": {
      "text/plain": [
       "{'criterion': 'gini',\n",
       " 'max_depth': 15,\n",
       " 'min_samples_leaf': 6,\n",
       " 'n_estimators': 100,\n",
       " 'n_jobs': -1}"
      ]
     },
     "execution_count": 88,
     "metadata": {},
     "output_type": "execute_result"
    }
   ],
   "source": [
    "rf_gs.best_params_"
   ]
  },
  {
   "cell_type": "code",
   "execution_count": 89,
   "id": "b48d0cd0",
   "metadata": {},
   "outputs": [
    {
     "name": "stdout",
     "output_type": "stream",
     "text": [
      "Training accuracy:  0.767243953418931\n",
      "Validation accuracy:  0.7612066535100085\n"
     ]
    },
    {
     "data": {
      "text/plain": [
       "RandomForestClassifier(bootstrap=True, ccp_alpha=0.0, class_weight=None,\n",
       "                       criterion='gini', max_depth=15, max_features='auto',\n",
       "                       max_leaf_nodes=None, max_samples=None,\n",
       "                       min_impurity_decrease=0.0, min_impurity_split=None,\n",
       "                       min_samples_leaf=6, min_samples_split=2,\n",
       "                       min_weight_fraction_leaf=0.0, n_estimators=100,\n",
       "                       n_jobs=-1, oob_score=False, random_state=2021, verbose=0,\n",
       "                       warm_start=False)"
      ]
     },
     "execution_count": 89,
     "metadata": {},
     "output_type": "execute_result"
    }
   ],
   "source": [
    "modeling_function(rf_gs1, X_train_df, y_train, X_val_df, y_val)"
   ]
  },
  {
   "cell_type": "markdown",
   "id": "159d72cc",
   "metadata": {},
   "source": [
    "### Model 5"
   ]
  },
  {
   "cell_type": "code",
   "execution_count": 90,
   "id": "1fa89414",
   "metadata": {},
   "outputs": [],
   "source": [
    "param_grid2 = {'n_estimators': [80,100,120],\n",
    "                'max_depth': [13,15,17,20],\n",
    "                'min_samples_leaf': [2,4,6],\n",
    "                 'n_jobs': [-1]}"
   ]
  },
  {
   "cell_type": "code",
   "execution_count": 91,
   "id": "dc509ad9",
   "metadata": {},
   "outputs": [],
   "source": [
    "rf2 = RandomForestClassifier(criterion='gini', bootstrap=False, random_state=2021)"
   ]
  },
  {
   "cell_type": "code",
   "execution_count": 92,
   "id": "d6011f05",
   "metadata": {},
   "outputs": [],
   "source": [
    "rf_gs2=GridSearchCV(estimator=rf2, param_grid=param_grid2, scoring='accuracy')"
   ]
  },
  {
   "cell_type": "code",
   "execution_count": 93,
   "id": "5191f2ee",
   "metadata": {},
   "outputs": [
    {
     "data": {
      "text/plain": [
       "GridSearchCV(cv=None, error_score=nan,\n",
       "             estimator=RandomForestClassifier(bootstrap=False, ccp_alpha=0.0,\n",
       "                                              class_weight=None,\n",
       "                                              criterion='gini', max_depth=None,\n",
       "                                              max_features='auto',\n",
       "                                              max_leaf_nodes=None,\n",
       "                                              max_samples=None,\n",
       "                                              min_impurity_decrease=0.0,\n",
       "                                              min_impurity_split=None,\n",
       "                                              min_samples_leaf=1,\n",
       "                                              min_samples_split=2,\n",
       "                                              min_weight_fraction_leaf=0.0,\n",
       "                                              n_estimators=100, n_jobs=None,\n",
       "                                              oob_score=False,\n",
       "                                              random_state=2021, verbose=0,\n",
       "                                              warm_start=False),\n",
       "             iid='deprecated', n_jobs=None,\n",
       "             param_grid={'max_depth': [13, 15, 17, 20],\n",
       "                         'min_samples_leaf': [2, 4, 6],\n",
       "                         'n_estimators': [80, 100, 120], 'n_jobs': [-1]},\n",
       "             pre_dispatch='2*n_jobs', refit=True, return_train_score=False,\n",
       "             scoring='accuracy', verbose=0)"
      ]
     },
     "execution_count": 93,
     "metadata": {},
     "output_type": "execute_result"
    }
   ],
   "source": [
    "rf_gs2.fit(X_train_res, y_train_res)"
   ]
  },
  {
   "cell_type": "code",
   "execution_count": 94,
   "id": "85f964c8",
   "metadata": {},
   "outputs": [],
   "source": [
    "best_model = rf_gs2.best_estimator_"
   ]
  },
  {
   "cell_type": "code",
   "execution_count": 95,
   "id": "c1cda0d5",
   "metadata": {},
   "outputs": [
    {
     "data": {
      "text/plain": [
       "{'max_depth': 20, 'min_samples_leaf': 2, 'n_estimators': 120, 'n_jobs': -1}"
      ]
     },
     "execution_count": 95,
     "metadata": {},
     "output_type": "execute_result"
    }
   ],
   "source": [
    "rf_gs2.best_params_"
   ]
  },
  {
   "cell_type": "code",
   "execution_count": 96,
   "id": "04f81322",
   "metadata": {},
   "outputs": [
    {
     "name": "stdout",
     "output_type": "stream",
     "text": [
      "Training accuracy:  0.8630144877444627\n",
      "Validation accuracy:  0.7626162954609529\n"
     ]
    },
    {
     "data": {
      "text/plain": [
       "RandomForestClassifier(bootstrap=False, ccp_alpha=0.0, class_weight=None,\n",
       "                       criterion='gini', max_depth=20, max_features='auto',\n",
       "                       max_leaf_nodes=None, max_samples=None,\n",
       "                       min_impurity_decrease=0.0, min_impurity_split=None,\n",
       "                       min_samples_leaf=2, min_samples_split=2,\n",
       "                       min_weight_fraction_leaf=0.0, n_estimators=120,\n",
       "                       n_jobs=-1, oob_score=False, random_state=2021, verbose=0,\n",
       "                       warm_start=False)"
      ]
     },
     "execution_count": 96,
     "metadata": {},
     "output_type": "execute_result"
    }
   ],
   "source": [
    "modeling_function(best_model, X_train_res, y_train_res, X_val_df, y_val)"
   ]
  },
  {
   "cell_type": "code",
   "execution_count": 97,
   "id": "20175889",
   "metadata": {},
   "outputs": [
    {
     "data": {
      "text/plain": [
       "array([0.01159317, 0.03576525, 0.04880261, ..., 0.00374084, 0.00023505,\n",
       "       0.00013706])"
      ]
     },
     "execution_count": 97,
     "metadata": {},
     "output_type": "execute_result"
    }
   ],
   "source": [
    "top_feats = best_model.feature_importances_\n",
    "top_feats"
   ]
  },
  {
   "cell_type": "code",
   "execution_count": null,
   "id": "54b3a1c6",
   "metadata": {},
   "outputs": [],
   "source": [
    "for fi, feature in zip(col_names, best_model.feature_importances_):\n",
    "    print(fi, feature)"
   ]
  },
  {
   "cell_type": "code",
   "execution_count": 103,
   "id": "abe835a2",
   "metadata": {},
   "outputs": [],
   "source": [
    "#from sklearn.inspection import permutation_importance\n",
    "#results = permutation_importance(best_model, X_train_res, y_train_res)"
   ]
  },
  {
   "cell_type": "code",
   "execution_count": null,
   "id": "e78e2dcb",
   "metadata": {},
   "outputs": [],
   "source": [
    "#rfe = RFE(estimator=DecisionTreeClassifier(), n_features_to_select=5)"
   ]
  },
  {
   "cell_type": "code",
   "execution_count": null,
   "id": "ca02f838",
   "metadata": {},
   "outputs": [],
   "source": [
    "#rfe.fit(X_train_res, y_train_res)"
   ]
  },
  {
   "cell_type": "code",
   "execution_count": null,
   "id": "e00c3a6f",
   "metadata": {},
   "outputs": [],
   "source": [
    "# estimator = SVR(kernel=\"linear\")\n",
    "# selector = RFECV(estimator, step=1, cv=5)\n",
    "# selector = selector.fit(X_train_res, y_train_res)\n",
    "# selector.support_"
   ]
  },
  {
   "cell_type": "code",
   "execution_count": null,
   "id": "d5b0c6f0",
   "metadata": {},
   "outputs": [],
   "source": [
    "#rf3 = modeling_function(rf_gs3, X_train_res, y_train_res, X_val_df, y_val)b"
   ]
  },
  {
   "cell_type": "code",
   "execution_count": null,
   "id": "e794b49a",
   "metadata": {},
   "outputs": [],
   "source": []
  },
  {
   "cell_type": "markdown",
   "id": "725d820b",
   "metadata": {},
   "source": [
    "## Testing Data on Model 1 \n",
    "Following the same steps as above, run the model on the testing data."
   ]
  },
  {
   "cell_type": "code",
   "execution_count": 131,
   "id": "1a89c648",
   "metadata": {},
   "outputs": [],
   "source": [
    "X_test_scaled = pd.DataFrame(scaler.transform(X_test[num_cols]), columns=num_cols)\n",
    "X_test_encoded = pd.DataFrame(ohe.transform(X_test[cat_cols]), columns=ohe.get_feature_names())"
   ]
  },
  {
   "cell_type": "code",
   "execution_count": 132,
   "id": "e1fa6216",
   "metadata": {},
   "outputs": [],
   "source": [
    "X_test_df = pd.concat([X_test_scaled, X_test_encoded], axis=1)"
   ]
  },
  {
   "cell_type": "code",
   "execution_count": 134,
   "id": "ba279b32",
   "metadata": {},
   "outputs": [],
   "source": [
    "test_preds = logreg1.predict(X_test_df)"
   ]
  },
  {
   "cell_type": "code",
   "execution_count": 140,
   "id": "9b24f19d",
   "metadata": {},
   "outputs": [
    {
     "data": {
      "text/plain": [
       "0.7847555129434324"
      ]
     },
     "execution_count": 140,
     "metadata": {},
     "output_type": "execute_result"
    }
   ],
   "source": [
    "accuracy_score(y_test, test_preds)"
   ]
  },
  {
   "cell_type": "code",
   "execution_count": 80,
   "id": "7d1e95cc",
   "metadata": {},
   "outputs": [],
   "source": [
    "importance = logreg1.coef_[0]"
   ]
  },
  {
   "cell_type": "markdown",
   "id": "74789734",
   "metadata": {},
   "source": [
    "### Visulals"
   ]
  },
  {
   "cell_type": "code",
   "execution_count": 88,
   "id": "7391c68f",
   "metadata": {},
   "outputs": [
    {
     "data": {
      "image/png": "[encoded data removed]",
      "text/plain": [
       "<Figure size 432x288 with 1 Axes>"
      ]
     },
     "metadata": {
      "needs_background": "light"
     },
     "output_type": "display_data"
    }
   ],
   "source": [
    "plt.bar(df2['status_group'].unique(), df2['status_group'].value_counts(), \n",
    "        tick_label = ['Functional', 'Nonfunctional', 'Needs Repair \\n but Functional'])\n",
    "plt.title('Functionality of Tanzanian Water Well Pumps')\n",
    "plt.ylabel('Number of Wells')\n",
    "plt.savefig('functionality_barchart.png', dpi = 300, transparent = True);"
   ]
  },
  {
   "cell_type": "code",
   "execution_count": null,
   "id": "38b3bd87",
   "metadata": {},
   "outputs": [],
   "source": []
  }
 ],
 "metadata": {
  "kernelspec": {
   "display_name": "Python 3",
   "language": "python",
   "name": "python3"
  },
  "language_info": {
   "codemirror_mode": {
    "name": "ipython",
    "version": 3
   },
   "file_extension": ".py",
   "mimetype": "text/x-python",
   "name": "python",
   "nbconvert_exporter": "python",
   "pygments_lexer": "ipython3",
   "version": "3.8.5"
  }
 },
 "nbformat": 4,
 "nbformat_minor": 5
}
